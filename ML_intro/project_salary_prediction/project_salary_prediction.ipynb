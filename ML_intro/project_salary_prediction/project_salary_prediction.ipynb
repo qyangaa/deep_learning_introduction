{
 "cells": [
  {
   "cell_type": "markdown",
   "metadata": {},
   "source": [
    "# Project description\n",
    "\n",
    "__Goal__ : predict salary from skill description - regression\n",
    "\n",
    "__dataset__ : 4512 positions, their skill sets, and salary\n",
    "\n",
    "__process__:\n",
    "\n",
    "1. Load data (read_excel)\n",
    "2. Visualize data with Networkx, pagerank(purely for display, only ranking, not for model prediction)\n",
    "3. Obtain TFIDF of the text\n",
    "4. KNN regression, naive bayes regression to train the prediction model (evaluated by MSE)\n",
    "5. predict salary base on skill key words\n",
    "\n",
    "__tests__ :\n",
    "test = '测试 北京 3年 专科'\n",
    "test2 = '测试 北京 4年 专科'\n",
    "test3 = '算法 北京 4年 本科'\n",
    "test4 = 'UI 北京 4年 本科'\n",
    "\n",
    "persons = [\n",
    "    \"广州Java本科3年掌握大数据\",\n",
    "    \"沈阳Java硕士3年掌握大数据\", \n",
    "    \"沈阳Java本科3年掌握大数据\", \n",
    "    \"北京算法硕士3年掌握图像识别\",\n",
    "]\n"
   ]
  },
  {
   "cell_type": "markdown",
   "metadata": {},
   "source": [
    "## useful tools\n",
    "eval(): return evaluation of string\n",
    "random.sample: get random sample of given list\n",
    "\n",
    "__pagerank__: (TODO)\n",
    "PageRank computes a ranking of the nodes in the graph G based on the structure of the incoming links. It was originally designed as an algorithm to rank web pages. Higher rank: higher (in_degree - out_degree), more pages reference this page, then higher influence\n",
    "\n",
    "alpha (float, optional) – Damping parameter for PageRank, default=0.85. "
   ]
  },
  {
   "cell_type": "code",
   "execution_count": 1,
   "metadata": {},
   "outputs": [
    {
     "name": "stdout",
     "output_type": "stream",
     "text": [
      "[4, 0]\n"
     ]
    }
   ],
   "source": [
    "import random\n",
    "list = [0,1,2,3,4]\n",
    "rs = random.sample(list,2)\n",
    "print(rs)"
   ]
  },
  {
   "cell_type": "code",
   "execution_count": 2,
   "metadata": {},
   "outputs": [],
   "source": [
    "import os\n",
    "import matplotlib as mpl\n",
    "import matplotlib.pyplot as plt\n",
    "import matplotlib.font_manager as font_manager\n",
    "#set font for chinese\n",
    "from matplotlib import rcParams\n",
    "#rcParams['font.sans-serif'] = 'simHei'\n",
    "#fpath = os.path.join(plt.rcParams[\"datapath\"], \"/SimHei.ttf\")\n",
    "plt.rcParams['font.sans-serif'] = ['SimHei']\n",
    "#properly display minus sign\n",
    "plt.rcParams['axes.unicode_minus'] = False"
   ]
  },
  {
   "cell_type": "code",
   "execution_count": 3,
   "metadata": {},
   "outputs": [
    {
     "name": "stderr",
     "output_type": "stream",
     "text": [
      "/Users/arkyyang/opt/anaconda3/lib/python3.7/_collections_abc.py:705: MatplotlibDeprecationWarning: \n",
      "The examples.directory rcparam was deprecated in Matplotlib 3.0 and will be removed in 3.2. In the future, examples will be found relative to the 'datapath' directory.\n",
      "  return '{0.__class__.__name__}({0._mapping!r})'.format(self)\n"
     ]
    },
    {
     "data": {
      "text/plain": [
       "KeysView(RcParams({'_internal.classic_mode': False,\n",
       "          'agg.path.chunksize': 0,\n",
       "          'animation.avconv_args': [],\n",
       "          'animation.avconv_path': 'avconv',\n",
       "          'animation.bitrate': -1,\n",
       "          'animation.codec': 'h264',\n",
       "          'animation.convert_args': [],\n",
       "          'animation.convert_path': 'convert',\n",
       "          'animation.embed_limit': 20.0,\n",
       "          'animation.ffmpeg_args': [],\n",
       "          'animation.ffmpeg_path': 'ffmpeg',\n",
       "          'animation.frame_format': 'png',\n",
       "          'animation.html': 'none',\n",
       "          'animation.html_args': [],\n",
       "          'animation.writer': 'ffmpeg',\n",
       "          'axes.autolimit_mode': 'data',\n",
       "          'axes.axisbelow': 'line',\n",
       "          'axes.edgecolor': 'black',\n",
       "          'axes.facecolor': 'white',\n",
       "          'axes.formatter.limits': [-7, 7],\n",
       "          'axes.formatter.min_exponent': 0,\n",
       "          'axes.formatter.offset_threshold': 4,\n",
       "          'axes.formatter.use_locale': False,\n",
       "          'axes.formatter.use_mathtext': False,\n",
       "          'axes.formatter.useoffset': True,\n",
       "          'axes.grid': False,\n",
       "          'axes.grid.axis': 'both',\n",
       "          'axes.grid.which': 'major',\n",
       "          'axes.labelcolor': 'black',\n",
       "          'axes.labelpad': 4.0,\n",
       "          'axes.labelsize': 'medium',\n",
       "          'axes.labelweight': 'normal',\n",
       "          'axes.linewidth': 0.8,\n",
       "          'axes.prop_cycle': cycler('color', ['#1f77b4', '#ff7f0e', '#2ca02c', '#d62728', '#9467bd', '#8c564b', '#e377c2', '#7f7f7f', '#bcbd22', '#17becf']),\n",
       "          'axes.spines.bottom': True,\n",
       "          'axes.spines.left': True,\n",
       "          'axes.spines.right': True,\n",
       "          'axes.spines.top': True,\n",
       "          'axes.titlepad': 6.0,\n",
       "          'axes.titlesize': 'large',\n",
       "          'axes.titleweight': 'normal',\n",
       "          'axes.unicode_minus': False,\n",
       "          'axes.xmargin': 0.05,\n",
       "          'axes.ymargin': 0.05,\n",
       "          'axes3d.grid': True,\n",
       "          'backend': 'module://ipykernel.pylab.backend_inline',\n",
       "          'backend_fallback': True,\n",
       "          'boxplot.bootstrap': None,\n",
       "          'boxplot.boxprops.color': 'black',\n",
       "          'boxplot.boxprops.linestyle': '-',\n",
       "          'boxplot.boxprops.linewidth': 1.0,\n",
       "          'boxplot.capprops.color': 'black',\n",
       "          'boxplot.capprops.linestyle': '-',\n",
       "          'boxplot.capprops.linewidth': 1.0,\n",
       "          'boxplot.flierprops.color': 'black',\n",
       "          'boxplot.flierprops.linestyle': 'none',\n",
       "          'boxplot.flierprops.linewidth': 1.0,\n",
       "          'boxplot.flierprops.marker': 'o',\n",
       "          'boxplot.flierprops.markeredgecolor': 'black',\n",
       "          'boxplot.flierprops.markeredgewidth': 1.0,\n",
       "          'boxplot.flierprops.markerfacecolor': 'none',\n",
       "          'boxplot.flierprops.markersize': 6.0,\n",
       "          'boxplot.meanline': False,\n",
       "          'boxplot.meanprops.color': 'C2',\n",
       "          'boxplot.meanprops.linestyle': '--',\n",
       "          'boxplot.meanprops.linewidth': 1.0,\n",
       "          'boxplot.meanprops.marker': '^',\n",
       "          'boxplot.meanprops.markeredgecolor': 'C2',\n",
       "          'boxplot.meanprops.markerfacecolor': 'C2',\n",
       "          'boxplot.meanprops.markersize': 6.0,\n",
       "          'boxplot.medianprops.color': 'C1',\n",
       "          'boxplot.medianprops.linestyle': '-',\n",
       "          'boxplot.medianprops.linewidth': 1.0,\n",
       "          'boxplot.notch': False,\n",
       "          'boxplot.patchartist': False,\n",
       "          'boxplot.showbox': True,\n",
       "          'boxplot.showcaps': True,\n",
       "          'boxplot.showfliers': True,\n",
       "          'boxplot.showmeans': False,\n",
       "          'boxplot.vertical': True,\n",
       "          'boxplot.whiskerprops.color': 'black',\n",
       "          'boxplot.whiskerprops.linestyle': '-',\n",
       "          'boxplot.whiskerprops.linewidth': 1.0,\n",
       "          'boxplot.whiskers': 1.5,\n",
       "          'contour.corner_mask': True,\n",
       "          'contour.negative_linestyle': 'dashed',\n",
       "          'datapath': '/Users/arkyyang/opt/anaconda3/lib/python3.7/site-packages/matplotlib/mpl-data',\n",
       "          'date.autoformatter.day': '%Y-%m-%d',\n",
       "          'date.autoformatter.hour': '%m-%d %H',\n",
       "          'date.autoformatter.microsecond': '%M:%S.%f',\n",
       "          'date.autoformatter.minute': '%d %H:%M',\n",
       "          'date.autoformatter.month': '%Y-%m',\n",
       "          'date.autoformatter.second': '%H:%M:%S',\n",
       "          'date.autoformatter.year': '%Y',\n",
       "          'docstring.hardcopy': False,\n",
       "          'errorbar.capsize': 0.0,\n",
       "          'examples.directory': '',\n",
       "          'figure.autolayout': False,\n",
       "          'figure.constrained_layout.h_pad': 0.04167,\n",
       "          'figure.constrained_layout.hspace': 0.02,\n",
       "          'figure.constrained_layout.use': False,\n",
       "          'figure.constrained_layout.w_pad': 0.04167,\n",
       "          'figure.constrained_layout.wspace': 0.02,\n",
       "          'figure.dpi': 72.0,\n",
       "          'figure.edgecolor': (1, 1, 1, 0),\n",
       "          'figure.facecolor': (1, 1, 1, 0),\n",
       "          'figure.figsize': [6.0, 4.0],\n",
       "          'figure.frameon': True,\n",
       "          'figure.max_open_warning': 20,\n",
       "          'figure.subplot.bottom': 0.125,\n",
       "          'figure.subplot.hspace': 0.2,\n",
       "          'figure.subplot.left': 0.125,\n",
       "          'figure.subplot.right': 0.9,\n",
       "          'figure.subplot.top': 0.88,\n",
       "          'figure.subplot.wspace': 0.2,\n",
       "          'figure.titlesize': 'large',\n",
       "          'figure.titleweight': 'normal',\n",
       "          'font.cursive': ['Apple Chancery',\n",
       "                           'Textile',\n",
       "                           'Zapf Chancery',\n",
       "                           'Sand',\n",
       "                           'Script MT',\n",
       "                           'Felipa',\n",
       "                           'cursive'],\n",
       "          'font.family': ['sans-serif'],\n",
       "          'font.fantasy': ['Comic Sans MS',\n",
       "                           'Chicago',\n",
       "                           'Charcoal',\n",
       "                           'Impact',\n",
       "                           'Western',\n",
       "                           'Humor Sans',\n",
       "                           'xkcd',\n",
       "                           'fantasy'],\n",
       "          'font.monospace': ['DejaVu Sans Mono',\n",
       "                             'Bitstream Vera Sans Mono',\n",
       "                             'Computer Modern Typewriter',\n",
       "                             'Andale Mono',\n",
       "                             'Nimbus Mono L',\n",
       "                             'Courier New',\n",
       "                             'Courier',\n",
       "                             'Fixed',\n",
       "                             'Terminal',\n",
       "                             'monospace'],\n",
       "          'font.sans-serif': ['SimHei'],\n",
       "          'font.serif': ['DejaVu Serif',\n",
       "                         'Bitstream Vera Serif',\n",
       "                         'Computer Modern Roman',\n",
       "                         'New Century Schoolbook',\n",
       "                         'Century Schoolbook L',\n",
       "                         'Utopia',\n",
       "                         'ITC Bookman',\n",
       "                         'Bookman',\n",
       "                         'Nimbus Roman No9 L',\n",
       "                         'Times New Roman',\n",
       "                         'Times',\n",
       "                         'Palatino',\n",
       "                         'Charter',\n",
       "                         'serif'],\n",
       "          'font.size': 10.0,\n",
       "          'font.stretch': 'normal',\n",
       "          'font.style': 'normal',\n",
       "          'font.variant': 'normal',\n",
       "          'font.weight': 'normal',\n",
       "          'grid.alpha': 1.0,\n",
       "          'grid.color': '#b0b0b0',\n",
       "          'grid.linestyle': '-',\n",
       "          'grid.linewidth': 0.8,\n",
       "          'hatch.color': 'black',\n",
       "          'hatch.linewidth': 1.0,\n",
       "          'hist.bins': 10,\n",
       "          'image.aspect': 'equal',\n",
       "          'image.cmap': 'viridis',\n",
       "          'image.composite_image': True,\n",
       "          'image.interpolation': 'nearest',\n",
       "          'image.lut': 256,\n",
       "          'image.origin': 'upper',\n",
       "          'image.resample': True,\n",
       "          'interactive': True,\n",
       "          'keymap.all_axes': ['a'],\n",
       "          'keymap.back': ['left', 'c', 'backspace', 'MouseButton.BACK'],\n",
       "          'keymap.copy': ['ctrl+c', 'cmd+c'],\n",
       "          'keymap.forward': ['right', 'v', 'MouseButton.FORWARD'],\n",
       "          'keymap.fullscreen': ['f', 'ctrl+f'],\n",
       "          'keymap.grid': ['g'],\n",
       "          'keymap.grid_minor': ['G'],\n",
       "          'keymap.help': ['f1'],\n",
       "          'keymap.home': ['h', 'r', 'home'],\n",
       "          'keymap.pan': ['p'],\n",
       "          'keymap.quit': ['ctrl+w', 'cmd+w', 'q'],\n",
       "          'keymap.quit_all': ['W', 'cmd+W', 'Q'],\n",
       "          'keymap.save': ['s', 'ctrl+s'],\n",
       "          'keymap.xscale': ['k', 'L'],\n",
       "          'keymap.yscale': ['l'],\n",
       "          'keymap.zoom': ['o'],\n",
       "          'legend.borderaxespad': 0.5,\n",
       "          'legend.borderpad': 0.4,\n",
       "          'legend.columnspacing': 2.0,\n",
       "          'legend.edgecolor': '0.8',\n",
       "          'legend.facecolor': 'inherit',\n",
       "          'legend.fancybox': True,\n",
       "          'legend.fontsize': 'medium',\n",
       "          'legend.framealpha': 0.8,\n",
       "          'legend.frameon': True,\n",
       "          'legend.handleheight': 0.7,\n",
       "          'legend.handlelength': 2.0,\n",
       "          'legend.handletextpad': 0.8,\n",
       "          'legend.labelspacing': 0.5,\n",
       "          'legend.loc': 'best',\n",
       "          'legend.markerscale': 1.0,\n",
       "          'legend.numpoints': 1,\n",
       "          'legend.scatterpoints': 1,\n",
       "          'legend.shadow': False,\n",
       "          'legend.title_fontsize': None,\n",
       "          'lines.antialiased': True,\n",
       "          'lines.color': 'C0',\n",
       "          'lines.dash_capstyle': 'butt',\n",
       "          'lines.dash_joinstyle': 'round',\n",
       "          'lines.dashdot_pattern': [6.4, 1.6, 1.0, 1.6],\n",
       "          'lines.dashed_pattern': [3.7, 1.6],\n",
       "          'lines.dotted_pattern': [1.0, 1.65],\n",
       "          'lines.linestyle': '-',\n",
       "          'lines.linewidth': 1.5,\n",
       "          'lines.marker': 'None',\n",
       "          'lines.markeredgecolor': 'auto',\n",
       "          'lines.markeredgewidth': 1.0,\n",
       "          'lines.markerfacecolor': 'auto',\n",
       "          'lines.markersize': 6.0,\n",
       "          'lines.scale_dashes': True,\n",
       "          'lines.solid_capstyle': 'projecting',\n",
       "          'lines.solid_joinstyle': 'round',\n",
       "          'markers.fillstyle': 'full',\n",
       "          'mathtext.bf': 'sans:bold',\n",
       "          'mathtext.cal': 'cursive',\n",
       "          'mathtext.default': 'it',\n",
       "          'mathtext.fallback_to_cm': True,\n",
       "          'mathtext.fontset': 'dejavusans',\n",
       "          'mathtext.it': 'sans:italic',\n",
       "          'mathtext.rm': 'sans',\n",
       "          'mathtext.sf': 'sans',\n",
       "          'mathtext.tt': 'monospace',\n",
       "          'patch.antialiased': True,\n",
       "          'patch.edgecolor': 'black',\n",
       "          'patch.facecolor': 'C0',\n",
       "          'patch.force_edgecolor': False,\n",
       "          'patch.linewidth': 1.0,\n",
       "          'path.effects': [],\n",
       "          'path.simplify': True,\n",
       "          'path.simplify_threshold': 0.1111111111111111,\n",
       "          'path.sketch': None,\n",
       "          'path.snap': True,\n",
       "          'pdf.compression': 6,\n",
       "          'pdf.fonttype': 3,\n",
       "          'pdf.inheritcolor': False,\n",
       "          'pdf.use14corefonts': False,\n",
       "          'pgf.preamble': '',\n",
       "          'pgf.rcfonts': True,\n",
       "          'pgf.texsystem': 'xelatex',\n",
       "          'polaraxes.grid': True,\n",
       "          'ps.distiller.res': 6000,\n",
       "          'ps.fonttype': 3,\n",
       "          'ps.papersize': 'letter',\n",
       "          'ps.useafm': False,\n",
       "          'ps.usedistiller': False,\n",
       "          'savefig.bbox': None,\n",
       "          'savefig.directory': '~',\n",
       "          'savefig.dpi': 'figure',\n",
       "          'savefig.edgecolor': 'white',\n",
       "          'savefig.facecolor': 'white',\n",
       "          'savefig.format': 'png',\n",
       "          'savefig.frameon': True,\n",
       "          'savefig.jpeg_quality': 95,\n",
       "          'savefig.orientation': 'portrait',\n",
       "          'savefig.pad_inches': 0.1,\n",
       "          'savefig.transparent': False,\n",
       "          'scatter.edgecolors': 'face',\n",
       "          'scatter.marker': 'o',\n",
       "          'svg.fonttype': 'path',\n",
       "          'svg.hashsalt': None,\n",
       "          'svg.image_inline': True,\n",
       "          'text.antialiased': True,\n",
       "          'text.color': 'black',\n",
       "          'text.hinting': 'auto',\n",
       "          'text.hinting_factor': 8,\n",
       "          'text.latex.preamble': '',\n",
       "          'text.latex.preview': False,\n",
       "          'text.latex.unicode': True,\n",
       "          'text.usetex': False,\n",
       "          'timezone': 'UTC',\n",
       "          'tk.window_focus': False,\n",
       "          'toolbar': 'toolbar2',\n",
       "          'verbose.fileo': 'sys.stdout',\n",
       "          'verbose.level': 'silent',\n",
       "          'webagg.address': '127.0.0.1',\n",
       "          'webagg.open_in_browser': True,\n",
       "          'webagg.port': 8988,\n",
       "          'webagg.port_retries': 50,\n",
       "          'xtick.alignment': 'center',\n",
       "          'xtick.bottom': True,\n",
       "          'xtick.color': 'black',\n",
       "          'xtick.direction': 'out',\n",
       "          'xtick.labelbottom': True,\n",
       "          'xtick.labelsize': 'medium',\n",
       "          'xtick.labeltop': False,\n",
       "          'xtick.major.bottom': True,\n",
       "          'xtick.major.pad': 3.5,\n",
       "          'xtick.major.size': 3.5,\n",
       "          'xtick.major.top': True,\n",
       "          'xtick.major.width': 0.8,\n",
       "          'xtick.minor.bottom': True,\n",
       "          'xtick.minor.pad': 3.4,\n",
       "          'xtick.minor.size': 2.0,\n",
       "          'xtick.minor.top': True,\n",
       "          'xtick.minor.visible': False,\n",
       "          'xtick.minor.width': 0.6,\n",
       "          'xtick.top': False,\n",
       "          'ytick.alignment': 'center_baseline',\n",
       "          'ytick.color': 'black',\n",
       "          'ytick.direction': 'out',\n",
       "          'ytick.labelleft': True,\n",
       "          'ytick.labelright': False,\n",
       "          'ytick.labelsize': 'medium',\n",
       "          'ytick.left': True,\n",
       "          'ytick.major.left': True,\n",
       "          'ytick.major.pad': 3.5,\n",
       "          'ytick.major.right': True,\n",
       "          'ytick.major.size': 3.5,\n",
       "          'ytick.major.width': 0.8,\n",
       "          'ytick.minor.left': True,\n",
       "          'ytick.minor.pad': 3.4,\n",
       "          'ytick.minor.right': True,\n",
       "          'ytick.minor.size': 2.0,\n",
       "          'ytick.minor.visible': False,\n",
       "          'ytick.minor.width': 0.6,\n",
       "          'ytick.right': False}))"
      ]
     },
     "execution_count": 3,
     "metadata": {},
     "output_type": "execute_result"
    }
   ],
   "source": [
    "rcParams.keys()"
   ]
  },
  {
   "cell_type": "markdown",
   "metadata": {},
   "source": [
    "canonical represenations:\n",
    "\n",
    "\\w+: number, letter, underline, plus sign\n",
    "\n",
    "\\d: number\n",
    "\n",
    "\\s: space\n",
    "\n",
    "\\n: newline\n",
    "\n",
    "\\t: table\n",
    "\n",
    "\\b: end of a word\n",
    "\n",
    "\\^: start of string\n",
    "\n",
    ". : any character except for newline"
   ]
  },
  {
   "cell_type": "code",
   "execution_count": 4,
   "metadata": {},
   "outputs": [
    {
     "name": "stdout",
     "output_type": "stream",
     "text": [
      "   id         positionName district stationname jobNature  \\\n",
      "0   3               财务产品经理      海淀区          上地        全职   \n",
      "1   4                 产品专家      海淀区         中关村        全职   \n",
      "2   5                 产品总监      海淀区         中关村        全职   \n",
      "3   6  联盟广告产品运营专家/专员-【商业化】      海淀区          东单        全职   \n",
      "4   7                 产品总监      海淀区         中关村        全职   \n",
      "\n",
      "                   companyLabelList industryField   salary companySize  \\\n",
      "0  ['节日礼物', '年底双薪', '定期体检', '七险一金']    物流丨运输,软件开发  10k-15k   500-2000人   \n",
      "1  ['五险一金', '弹性工作', '带薪年假', '免费两餐']          企业服务  30k-50k   500-2000人   \n",
      "2  ['五险一金', '弹性工作', '带薪年假', '免费两餐']          企业服务  40k-75k   500-2000人   \n",
      "3  ['股票期权', '弹性工作', '定期体检', '岗位晋升']         文娱丨内容  20k-40k     2000人以上   \n",
      "4  ['领导好', '五险一金', '领军企业', '脑力密集型']      移动互联网,社交  20k-38k      15-50人   \n",
      "\n",
      "                      skillLables           createTime companyFullName  \\\n",
      "0           ['产品设计', '后台', 'B2B']  2020-05-15 15:10:02  北京福佑多多信息技术有限公司   \n",
      "1                              []  2020-05-16 08:23:06    北京拉勾网络技术有限公司   \n",
      "2                              []  2020-05-16 08:23:06    北京拉勾网络技术有限公司   \n",
      "3                        ['产品运营']  2020-05-15 19:35:13  北京达佳互联信息技术有限公司   \n",
      "4  ['电商', '社交电商', '产品策划', '需求分析']  2020-05-16 09:15:16      北京领主科技有限公司   \n",
      "\n",
      "  workYear education positionAdvantage  \\\n",
      "0     1-3年        本科  福利待遇好、创业黑马、技术氛围好   \n",
      "1    5-10年        本科         做好产品，给用户用   \n",
      "2    5-10年        本科         做好产品，给用户用   \n",
      "3    5-10年        不限   扁平化管理 免费午餐晚餐下午茶   \n",
      "4    5-10年        本科             发展，创新   \n",
      "\n",
      "                                       url  \\\n",
      "0  https://www.lagou.com/jobs/7149613.html   \n",
      "1  https://www.lagou.com/jobs/7056930.html   \n",
      "2  https://www.lagou.com/jobs/6982266.html   \n",
      "3  https://www.lagou.com/jobs/7112346.html   \n",
      "4  https://www.lagou.com/jobs/6864122.html   \n",
      "\n",
      "                                              detail type  \n",
      "0  岗位职责1、负责财务相关业务解决方案架构并主导与产品、技术等交付团队的对接，能够从完整的财务...  产品线  \n",
      "1    负责具体产品线的工作，完成用户价值。解决具体产品线的问题。产品线有策略、运营、基础产品流程等线  产品线  \n",
      "2  做出好产品，服务用户，实现用户价值。B端产品、C端产品、商业策略产品、运营产品等岗位，都有总...  产品线  \n",
      "3  职位描述：1、负责快手联盟竞价广告的落地和运营，提升产品使用率和覆盖率； 2、深度分析广告预...  产品线  \n",
      "4  工作职责:1. 整体负责公司的产品功能规划、优化升级、实施工作； 2. 带领产品团队完成产品...  产品线  \n"
     ]
    }
   ],
   "source": [
    "import pandas as pd\n",
    "\n",
    "#load data\n",
    "file = 'jobs_4k.xls'\n",
    "content = pd.read_excel(file)\n",
    "#print head of data to see what content to extract\n",
    "print(content.head())"
   ]
  },
  {
   "cell_type": "code",
   "execution_count": 5,
   "metadata": {},
   "outputs": [
    {
     "name": "stdout",
     "output_type": "stream",
     "text": [
      "1411\n"
     ]
    }
   ],
   "source": [
    "#extract content\n",
    "position_names = content['positionName'].tolist()\n",
    "skill_labels = content['skillLables'].tolist()\n",
    "#visualization\n",
    "from collections import defaultdict\n",
    "#create a dict with list as values\n",
    "skill_position_graph = defaultdict(lambda: list)\n",
    "for p, s in zip(position_names, skill_labels):\n",
    "    skill_position_graph[p] = eval(s)\n",
    "print(len(skill_position_graph))"
   ]
  },
  {
   "cell_type": "code",
   "execution_count": 10,
   "metadata": {},
   "outputs": [
    {
     "data": {
      "image/png": "[encoded data removed]",
      "text/plain": [
       "<Figure size 432x288 with 1 Axes>"
      ]
     },
     "metadata": {},
     "output_type": "display_data"
    }
   ],
   "source": [
    "import networkx as nx\n",
    "#p and s are all nodes here\n",
    "G = nx.Graph(skill_position_graph)\n",
    "#select randomly selected 30 positions to plot\n",
    "import random\n",
    "sample_nodes = random.sample(position_names,k=5)\n",
    "sample_nodes_connections = sample_nodes\n",
    "for p, skills in skill_position_graph.items():\n",
    "    if p in sample_nodes:\n",
    "        sample_nodes_connections = sample_nodes_connections + skills\n",
    "#extract subgraph\n",
    "sample_graph = G.subgraph(sample_nodes_connections)\n",
    "pos = nx.spring_layout(sample_graph, k=1)\n",
    "nx.draw(sample_graph, pos, with_labels =True, hold = False, node_size=40)\n",
    "plt.show()"
   ]
  },
  {
   "cell_type": "code",
   "execution_count": 11,
   "metadata": {},
   "outputs": [
    {
     "name": "stdout",
     "output_type": "stream",
     "text": [
      "[('后端', 0.03346211239890712), ('运维', 0.0239962554759034), ('Python', 0.020461987360895047), ('UI', 0.018457360272566656), ('PHP', 0.01822543623100772), ('Java', 0.016863768025879227), ('测试', 0.014227005938131787), ('交互', 0.012883259480843613), ('产品经理', 0.011879049251686221), ('产品设计', 0.010490561803754885), ('服务器端', 0.008536279029229028), ('MySQL', 0.008117986667448123), ('数据分析', 0.007994006959136003), ('Linux', 0.005859979032369218), ('前端开发', 0.005831386084023175), ('Web前端', 0.005563148178288723), ('测试开发', 0.005562170523443369), ('GO', 0.004813418804340715), ('视觉', 0.004605805504582426), ('功能测试', 0.004448109059869168), ('Javascript', 0.004328003931980711), ('产品策划', 0.004030019653230439), ('UE', 0.003976109748047388), ('Linux/Unix', 0.003901548578797241), ('Golang', 0.0038003238200843923), ('需求分析', 0.003767024171257116), ('自动化', 0.0036055854487507567), ('用户研究', 0.003417838148671111), ('用户体验', 0.0033777548451403663), ('分布式', 0.003260349917859597), ('web前端', 0.0030769214981356255), ('移动端', 0.003037085538211673), ('安全', 0.0029895481367388605), ('数据', 0.0029616629944924553), ('Android测试', 0.002911714435742337), ('系统架构', 0.002891584479998978), ('HTML5', 0.002667778957944697), ('IT支持', 0.0026576063435522113), ('性能测试', 0.002648577024080529), ('数据库', 0.002608116309879834), ('C++', 0.0024963814180744433), ('设计', 0.0024853028132006154), ('Node.js', 0.00246737632246563), ('IOS测试', 0.002463188523552066), ('B端产品', 0.0024456682086716466), ('架构师', 0.0023850689123431183), ('平台', 0.002312541618914761), ('运维开发', 0.002304809700859291), ('移动交互', 0.0022644467290413284), ('自动化测试', 0.0021983115856486282), ('游戏测试', 0.0021876081563697108), ('Docker', 0.0021563905607647417), ('运维管理', 0.002141676582611322), ('DevOps', 0.0021181715077663106), ('App设计', 0.00195686439825488), ('全栈', 0.0019450426162667936), ('算法', 0.0018968127067157201), ('Shell', 0.0018448645132866303), ('Web测试', 0.0018040704124989413), ('K8s', 0.0017846857665079153), ('数据挖掘', 0.0017448630358925074), ('商业产品', 0.0016878242182885744), ('UED', 0.0016657766408000498), ('CSS', 0.0016207797636424701), ('J2EE', 0.001572512563423489), ('Windows', 0.0015495663793185248), ('软件开发', 0.0015422152136400935), ('HTML', 0.0015316178236884513), ('交互设计', 0.0015263763243197619), ('项目管理', 0.0014939084893860076), ('React native', 0.0014933886929901715), ('python爬虫', 0.0014466056976481859), ('docker', 0.0014340009092492722), ('监控', 0.001393385595488338), ('自动化运维', 0.0013737446009055919), ('软件测试', 0.0013688731984121386), ('客户端', 0.0013650668131473579), ('Vue', 0.001356389722835974), ('后台产品', 0.0013503876737017992), ('云平台运维', 0.001349213654639555), ('Laravel', 0.0013390763110383427), ('部门管理', 0.001305702740570757), ('中间件', 0.0012946106925058145), ('移动产品/APP', 0.001291355790810169), ('大数据运维', 0.0012785501852460317), ('数据处理', 0.0012536054177534734), ('白盒测试', 0.0012492432371525393), ('DBA', 0.0012128835553658665), ('系统运维', 0.001196102817072054), ('Yii', 0.0011851145338028694), ('UI设计', 0.0011742139595770562), ('技术管理', 0.0011682155821444357), ('搜索', 0.0011237581514701024), ('服务器运维', 0.0011173069334503743), ('Ruby', 0.001116489996699318), ('桌面运维', 0.0010987670147116799), ('交互设计专家', 0.0010736762207698646), ('Hadoop', 0.0010713932300589178), ('游戏界面UI设计', 0.0010667782136063494), ('PS', 0.0010567717722217366), ('产品运营专员（直播）', 0.0010387245707676725), ('产品运营', 0.0010387245707676725), ('BI', 0.0010349594364625272), ('产品测试', 0.0010346505420899645), ('Angularjs', 0.0009893990168884598), ('网页交互', 0.0009887082761859244), ('高级web前端开发工程师及专家-【AI算法实验平台', 0.000982899437044659), ('现场运维', 0.0009686591236782713), ('HR数据产品经理', 0.0009674405559566954), ('游戏策划', 0.0009674405559566949), ('金融', 0.0009501388617468381), ('平面', 0.0009389203996739101), ('2D', 0.0009219251428887962), ('领导力', 0.0008970922663407795), ('Python爬虫工程师 (MJ000130)', 0.0008870503133825891), ('机器学习', 0.000885999239497991), ('产品总监/高级产品经理(J10515)', 0.0008804782665725693), ('企业软件', 0.0008786135201527354), ('配置管理', 0.0008780781767760695), ('JS', 0.0008745843729234303), ('界面设计', 0.0008727827333434367), ('应用运维', 0.0008657327878553171), ('UI设计（合伙人）', 0.0008641221295525098), ('高级产品经理/专家', 0.0008437963582638695), ('高级游戏ui设计师', 0.0008399544150339613), ('国际MIUI 高级ui设计师', 0.0008369168189184904), ('算法工程师（Python）', 0.0008340966546595363), ('UE交互设计师', 0.0008173374553220443), ('爬虫', 0.0008109193364645351), ('高级/资深UI设计师-如视', 0.0008064518632142407), ('Server端测试', 0.0007959212005903588), ('运维总监', 0.0007880394951338609), ('Python工程师【英语】', 0.0007875546224602679), ('脚本', 0.0007844543621919077), ('3D', 0.0007708682536480232), ('python视频后台工程师', 0.0007635183924381886), ('游戏UI设计师', 0.0007631883520938291), ('中级游戏测试', 0.0007604198159560815), ('推荐', 0.0007562679710515349), ('高级数据产品经理(J10169)', 0.0007541540047107315), ('python爬虫工程师', 0.0007514853403347586), ('酒店系统运维', 0.0007506729351773745), ('运营', 0.0007506729351773745), ('游戏ui设计师', 0.0007500476092632931), ('C端产品', 0.0007483016119701012), ('Openstack', 0.0007482536190667418), ('Go', 0.0007463456485526094), ('云计算', 0.0007462510102227028), ('智能运维算法工程师', 0.0007446207045038989), ('产品经理（模型生产平台产品线）', 0.0007443263397711517), ('APP产品经理(前后台/搜索推荐/用户增长)', 0.0007432707361924825), ('解决方案', 0.0007362884644172105), ('ui设计实习', 0.0007314582425423956), ('策略', 0.0007310507975866359), ('人工智能', 0.0007292981895344686), ('用户增长产品专家', 0.0007281497874776744), ('app测试', 0.0007265386365773547), ('大数据产品经理(J10437)', 0.0007220544761385599), ('UI设计实习', 0.000720430466213473), ('IDC', 0.0007191692968448822), ('高级产品经理-数据&amp;市场分析方向', 0.0007184881435913111), ('数据产品经理', 0.0007172434300001251), ('产品运营专家', 0.0007151310650181451), ('用户运营', 0.0007151310650181451), ('直播产品经理', 0.0007148939319532504), ('UI设计岗位', 0.0007132087810031754), ('北京-交互设计师', 0.0007081310695651885), ('交互设计师/UE/UX—如视', 0.000704273303084049), ('UI设计实习生（UED）', 0.0007028213194250735), ('动画', 0.0007024447336239888), ('桌面运维-视频系统', 0.0007010614584378055), ('数据产品经理（高级需求分析）', 0.0006991972159781079), ('UI设计师/高级UI设计师', 0.000698432206975907), ('网页设计美工/UI设计', 0.0006947105909614316), ('用户交互设计岗', 0.000694489476903874), ('UI设计师（实习）', 0.000694489476903874), ('高级产品经理-B端', 0.0006935121823586699), ('车载娱乐测试工程师', 0.0006917680766299868), ('网页', 0.0006911372442075863), ('数据产品经理/数据产品专家/高级数据产品专家', 0.0006907592437636979), ('应用运维经理', 0.0006902816388247789), ('初级游戏测试', 0.0006891553004073372), ('高级测试工程师(J10569)', 0.0006891248841538432), ('资深交互设计(J12704)', 0.0006886466503809804), ('UI设计总监', 0.0006876390246735831), ('资深UI设计师（远程办公）', 0.0006876390246735831), ('UI设计师（新华互联）', 0.0006868778382984947), ('数据产品经理(运营)', 0.000686591746478312), ('Sketch', 0.0006864198871069642), ('前端UI设计师', 0.0006861616589485771), ('游戏测试适配', 0.0006846566047324351), ('运维开发工程师（DevOps）', 0.0006843854417762348), ('高级GUI设计师', 0.0006841266770554367), ('国际化 视觉/UI设计师', 0.000684025687178759), ('技术总监（Python）', 0.0006836462291002722), ('测试工程师-众安', 0.0006829645001799295), ('社交/SNS', 0.00067964022173473), ('ux交互设计师', 0.0006789981649384103), ('交互设计实习', 0.0006789981649384103), ('高级交互设计(J12704)', 0.0006782930650864765), ('数据运维工程师', 0.0006770783824151989), ('产品专员', 0.0006768799402478674), ('数据产品经理 (MJ004468)', 0.0006767659972293508), ('PHP架构师(J16752)', 0.0006765317641373815), ('网络监控运维', 0.0006737981037157285), ('海外社交媒体数据平台产品经理', 0.0006727693444993947), ('运维技术负责人', 0.0006718409290013454), ('大数据产品经理', 0.000670912808310766), ('测试工程师（接口自动化测试）', 0.0006700986732132066), ('网站运维开发工程师 (MJ007197)', 0.0006696936605585723), ('用户交互设计', 0.0006688108345422548), ('交互设计师-社交产品中心', 0.0006687867013148339), ('技术总监（PHP）', 0.0006685735315164808), ('财务产品经理', 0.0006681144795844952), ('业务运维经理（运维中心）', 0.0006669540607167439), ('测试开发工程师（FBS1wjw）(J11736)', 0.0006655139136458665), ('高级产品经理（金融大数据）', 0.0006653912069442276), ('软件开发工程师', 0.0006651142827999802), ('交互设计师专家', 0.0006645533552423239), ('交互设计师（PAAS/北京）(J12808)', 0.0006645533552423239), ('PHP中级开发工程师', 0.000664431271838402), ('全栈开发工程师（Python方向）', 0.0006642564517501707), ('高级交互设计师（UED）', 0.0006637413515768168), ('云计算Linux运维工程师', 0.0006622036301341222), ('数据库管理员', 0.0006598534455817863), ('网络运维工程师', 0.0006598496974571231), ('海外-资深数据产品经理（北京）--3053', 0.0006597826217104408), ('BI产品经理（投研大数据）', 0.0006597826217104408), ('QA工程师（ 质量保证人员）', 0.0006570733950982323), ('行政运维专员', 0.0006570733950982323), ('资深SAP实施运维工程师', 0.0006570733950982323), ('QA', 0.0006570733950982323), ('行政', 0.0006570733950982323), ('SAP', 0.0006570733950982323), ('初/中级QA测试工程师', 0.0006568636211472505), ('高级数据运维工程师', 0.0006567559932884581), ('python 开发运维', 0.0006566088088096203), ('(O2O履约)产品经理', 0.0006552942967042947), ('Python爬虫实习生', 0.0006550882569063338), ('数据产品经理（平台工具方向） (MJ004407)', 0.0006548593394203147), ('桌面运维实习生', 0.0006536352627568401), ('HPC高级运维工程师', 0.0006521197590915308), ('高级游戏UI设计师', 0.0006513488856505739), ('高级产品经理/总监（云计算）', 0.0006510025604327884), ('高级产品经理/总监', 0.0006510025604327884), ('客户端产品经理', 0.0006510025604327884), ('云粒智慧-产品经理/专家', 0.0006510025604327884), ('广告投放数据平台产品经理', 0.0006510025604327884), ('医学大数据平台高级产品经理', 0.0006510025604327884), ('云计算系统运维工程师（北京）', 0.0006506149051710547), ('windows运维工程师（央视）', 0.0006504626030648017), ('资深Java讲师', 0.0006499304528024064), ('大数据运维工程师(J10921)', 0.0006484796176246308), ('资深测试工程师（移动端）', 0.0006480408029640006), ('测试主管', 0.0006474305774764945), ('python实习', 0.0006471536630889795), ('CI', 0.0006468499004713389), ('Java/Python', 0.000645566381535726), ('体育业务运维高级工程师', 0.0006453712119656238), ('数据仓库', 0.000644158448561931), ('智能硬件', 0.0006441135152228604), ('高级web前端开发工程师（React）', 0.000643793245968805), ('SQLServer', 0.0006419974521288444), ('资深测试工程师', 0.0006414931939074753), ('数据库运维', 0.0006414365545775937), ('python爬虫高级工程师', 0.0006406294022727665), ('运维工程师（央视）', 0.0006398554428551286), ('测试开发工程师', 0.0006396894001478302), ('蚂蚁金服-JAVA测试开发专家-网商银行/花呗借呗', 0.0006388472377969795), ('测试开发工程师（Python开发测试框架）', 0.000637893973676034), ('软件测试工程师-GIS', 0.0006369586430391162), ('软件测试工程师（APP）', 0.0006368925666588058), ('C/C++/PHP/Go高级开发工程师', 0.0006357533208858449), ('初级运维工程师BJ', 0.0006355622008905094), ('09312V-北京-测试工程师（移动方向）', 0.0006348362648007551), ('后端工程师（python）', 0.0006344309499797772), ('Java Web 程序员', 0.0006335259487882447), ('Python运维开发工程师', 0.000632988754634379), ('测试开发/高级测试开发工程师', 0.0006327704986866405), ('运维工程师', 0.0006309293461363222), ('高级php研发工程师', 0.0006299707811206796), ('java高级开发工程师', 0.0006299032315828363), ('Web 前端开发工程师', 0.0006298074618990347), ('高级软件工程师 - 运维开发', 0.0006291090271242749), ('高级运维', 0.0006290553697148225), ('资深开发运维工程师', 0.000628597162559477), ('DBA运维工程师（Mysql与非关系数据库）', 0.0006284897142182088), ('HTML/CSS', 0.0006280911762541357), ('大数据平台运维工程师 (MJ000431)', 0.0006271400836218047), ('ui设计', 0.0006267760804489678), ('游戏SDK测试工程师', 0.0006265247811645376), ('资深java', 0.000625165892269046), ('UI设计师-实习生', 0.0006245224937352733), ('移动端测试工程师', 0.0006229854074732346), ('测试/java/h5/android/flutter', 0.000622509327530806), ('运维服务管理岗', 0.0006220279744133907), ('中高级运维开发工程师', 0.0006218258758987379), ('运维中级工程师', 0.0006216895316775282), ('运维高级工程师', 0.0006216895316775282), ('php后端', 0.0006213770878462824), ('测试2021届实习生', 0.0006213289330356318), ('C端产品经理/专家', 0.00062113277882285), ('高级测试开发工程师 (MJ004296)', 0.0006207501350396717), ('大数据-运维架构师', 0.0006199943685324532), ('测试工程师（云安全/网络/虚拟化)', 0.0006197487280224438), ('PHP后端工程师', 0.0006187837833631372), ('资深后端开发工程师（Go/java）', 0.000618732843401105), ('devops运维开发工程师-爬虫方向', 0.0006186756909454038), ('运维工程师(J10310)', 0.000618499379104784), ('接口测试', 0.0006178133294761315), ('中级运维', 0.000616955463793465), ('运维leader', 0.0006168464777777273), ('移动端高级测试工程师', 0.000616705974239236), ('Java/Python后端', 0.0006166361982873976), ('测试实习生', 0.0006166348340142414), ('资深后端开发工程师（PHP/GO）', 0.0006158873589542668), ('系统运维主管', 0.0006158697889585035), ('Python数据处理开发工程师-0301', 0.0006158347532238034), ('高级PHP工程师 (MJ000277)', 0.0006154238524002638), ('exchange开发运维工程师', 0.0006153834087239139), ('测试工程师（保险）', 0.0006152746125076283), ('高级测试工程师', 0.000615208536127318), ('APP产品', 0.0006149440419131096), ('MongoDB', 0.0006148354185868596), ('自动化测试工程师（会Java）', 0.0006147022644789049), ('资深运维开发工程师-SRE', 0.0006145898670725579), ('高级系统运维工程师', 0.0006139915590339772), ('高级技术管理', 0.0006139064179077262), ('服务端开发工程师（Java开发/后端开发）', 0.0006138909813843184), ('Java研发工程师', 0.0006138909813843184), ('推荐算法', 0.0006125431156450355), ('高级运维工程师-IT(J10579)', 0.0006124540598256694), ('测试开发专家-财富事业群-蚂蚁金服', 0.0006118406083353294), ('C++/Python研发工程师', 0.0006109642524423391), ('java后端开发', 0.0006109132829729947), ('云基础服务运维工程师', 0.0006108374959062868), ('技术总监助理/产品经理', 0.000610453001505636), ('Golang运维开发工程师', 0.0006091949719615339), ('资深JAVA开发工程师', 0.0006091266074182545), ('运维工程师（OP）', 0.000607995090675112), ('资深云运维工程师', 0.0006078272582927789), ('策略产品经理-算法方向(5VJ1)', 0.000607668533966824), ('私有云网络运维工程师', 0.000607266236080787), ('openstack研发工程师/架构（Python）', 0.0006063658075153011), ('PCG04-视频系统测试工程师（北京）', 0.0006061404112138806), ('云平台运维工程师', 0.0006055057685065631), ('Python全栈架构师', 0.0006048632340261478), ('研发运维工程师', 0.0006046569859778866), ('系统运维开发工程师', 0.0006046569859778866), ('（k8s）运维开发工程师', 0.0006046177806572195), ('PYTHON开发工程师BJ', 0.0006042084813355393), ('高级/资深后端开发工程师（PHP/Java）', 0.0006041053164216896), ('创新项目-服务端开发工程师（JAVA或PHP）', 0.0006041053164216896), ('云计算devops运维工程师', 0.0006028700357396826), ('云计算LINUX运维工程师', 0.0006025915302289145), ('UX', 0.0006024290071360958), ('高级后端开发工程师（Python或Java）', 0.0006022610120763787), ('php开发工程师', 0.0006020614662562772), ('Web安全', 0.0006013510687037809), ('php后端高级研发工程师', 0.0006013238926851794), ('SRE应用运维工程师 (MJ000905)', 0.0006009998354714637), ('Python开发工程师---0201', 0.0006004904101984353), ('00088-资深PHP开发工程师', 0.0006002350290645661), ('资深java开发工程师', 0.0006002180052104531), ('SRE运维工程师', 0.0005999305488523816), ('少儿编程老师-python.java.c++', 0.0005996268297320289), ('高级java后端开发工程师', 0.0005995254848409304), ('Python后端工程师', 0.0005994795883398685), ('php研发工程师', 0.000599426096912007), ('Java 高级开发工程师', 0.0005994080007999403), ('运维开发DBA/SRE', 0.0005992218353876944), ('云计算运维工程师', 0.0005990031836137075), ('PHP高级/资深工程师', 0.0005983681095396022), ('阿里云安全JAVA开发专家', 0.0005983341604863569), ('UI设计经理', 0.0005980713199616708), ('高级php开发', 0.0005979754194139941), ('后端开发（Python）', 0.0005977545338363905), ('Python/ruby', 0.0005976331693617592), ('后端开发', 0.000597588469180515), ('贝壳如视-UI设计师', 0.0005973945353779932), ('web前端技术经理', 0.0005973920894750321), ('Python开发校招', 0.00059684521754669), ('java开发工程师', 0.0005967306159784558), ('底层系统研发工程师-java类', 0.0005962625214122432), ('AR交互设计师', 0.0005960529763065619), ('高级python开发工程师', 0.0005958198991005501), ('蚂蚁金服-JAVA高级专家-消费金融 北京/杭州', 0.0005956351490899767), ('Python服务端开发工程师', 0.0005951111697360156), ('PHP研发工程师(J16414)', 0.0005949766696460839), ('数据库运维工程师', 0.0005947621738315768), ('后端开发实习生', 0.0005941956192072043), ('Lead Go/Python/Java工程师', 0.0005941956192072043), ('Java分布式计算研发', 0.0005937694171478793), ('高级python', 0.0005937201703341169), ('php高级工程师', 0.0005936179165667662), ('php研发经理', 0.0005929183659566683), ('python爬虫leader', 0.0005925190459246881), ('PHP架构师', 0.0005919726011554687), ('WEB前端高级开发工程师', 0.0005905033788936541), ('高级PHP研发工程师', 0.000590278700004851), ('PCG开聊吧项目前端开发（外派腾讯）', 0.000590185290021344), ('python开发工程师（2020届校招）', 0.0005899862644728332), ('00014-高级PHP开发工程师', 0.0005897236374619801), ('数据运营', 0.0005896436750862347), ('区块链运维工程师', 0.0005895929119872446), ('资深Java/Python/C#/PHP开发', 0.0005885191997553721), ('实习PHP开发工程师', 0.0005884558794381574), ('中级java软件开发工程师（统招本科）', 0.000588355558230022), ('java开发工程师/架构师', 0.0005881064487666846), ('服务端java开发高级工程师(J190320004)', 0.0005880110423024281), ('PHP高级工程师', 0.0005877470079571307), ('后台开发（C++/go/PHP/python）', 0.0005876909971551686), ('JAVA软件开发工程师', 0.0005875346609064298), ('后端开发工程师（PHP）', 0.0005871690314629522), ('Web开发工程师（前端/后端）', 0.0005862755935650346), ('Python开发工程师', 0.0005859110443121126), ('Python/Ruby/Go', 0.0005859093343315795), ('php全栈', 0.0005858177874364418), ('APIcloud前端开发(J16718)', 0.0005857462591222003), ('PHP高级/资深研发工程师', 0.0005854879529903119), ('Python/ruby/', 0.0005854413133472656), ('财务系统产品经理', 0.0005843667163887892), ('PHP/GO研发工程师-内容系统', 0.0005843160885223356), ('高级后端研发工程师（GO/PHP转GO）', 0.0005843160885223356), ('Web前端开发工程师 (MJ007182)', 0.0005842422271252943), ('python研发工程师', 0.0005831632357566319), ('PHP 研发工程师', 0.0005830985184897984), ('python软件工程师', 0.0005830788054232429), ('后端开发工程师（北京）', 0.0005827963059672834), ('Java/python', 0.0005827963059672834), ('资深软件开发工程师（Go/Python，云方向）', 0.0005824717841770246), ('初中级JAVA软件开发工程师-北京', 0.0005823813144602485), ('资深开发工程师&amp;技术专家（GO/Python）', 0.0005821549627841293), ('php高级开发工程师', 0.0005815616075908234), ('WEB前端开发（北京）', 0.0005810551945786568), ('python攻城狮', 0.0005808199147510288), ('UI设计师（产品方向）', 0.0005806223876824587), ('Python全栈工程师', 0.0005805098571995723), ('PM/产品总监', 0.0005802880425627491), ('数据产品经理讲师（兼职 ）', 0.0005789728091059224), ('WEB前端开发经理', 0.0005789372589477289), ('Web前端开发工程师 (MJ000411)', 0.0005789372589477289), ('Python高级开发', 0.0005787932127608584), ('PHP开发工程师 -- 实习或兼职', 0.0005780293777424444), ('WEB前端工程师', 0.0005778682081987613), ('Python实习', 0.0005776909695501539), ('数据产品经理(帐号方向)', 0.0005766293114892575), ('后台C++开发工程师', 0.0005764864616065172), ('后端开发工程师（GO/C++/Python）', 0.0005764864616065172), ('PHP开发工程师', 0.0005763961312159878), ('资深PHP工程师', 0.0005763961312159878), ('Java开发工程师（安全工具平台）', 0.0005753291109376975), ('WEB前端开发工程师BJ', 0.0005750290019881423), ('ai产品经理', 0.000574904302625175), ('web前端开发', 0.0005744295951411625), ('高级web前端工程师', 0.0005742608890499216), ('高级ui设计师', 0.0005731714173322108), ('硬件测试工程师(J13626)', 0.0005719294435414704), ('Php/Golang开发', 0.0005715749948450283), ('产品经理（数据方向）', 0.0005713813801707997), ('资深web前端工程师(J10167)', 0.0005712245964950624), ('Python/ruby/node.js/go', 0.0005710724709371037), ('创业', 0.0005707081530797074), ('WEB前端开发工程师', 0.0005706702374009398), ('Web前端开发工程师（React）', 0.0005706702374009398), ('前端开发工程师', 0.0005706696814959052), ('PHP全栈工程师', 0.0005701706767074671), ('资深大数据运维/运维架构师', 0.0005700529015925457), ('软件工程师(Python)', 0.0005686279434997788), ('Web前端开发工程师', 0.000567817365494818), ('python/node.js', 0.0005676349207825489), ('PHP工程师-BJ', 0.0005667477588408157), ('阿里云运维工程师', 0.0005661641973700784), ('小米 数据产品经理', 0.0005653205945521568), ('二次元游戏UI设计师', 0.0005592424315250637), ('广告', 0.0005528307836252174), ('高级/资深UI设计师', 0.0005517743294093979), ('H5-UI设计师', 0.0005491132928891918), ('无线交互', 0.0005488436867423598), ('高级UI设计师(J10244)', 0.0005468149877495577), ('创意', 0.0005464761186292828), ('中级运维工程师', 0.0005452731930206301), ('广告数据产品经理', 0.0005444166459412747), ('资深视觉/UI设计师', 0.0005443635817305707), ('web前端开发工程师', 0.0005430559436204096), ('数据产品经理(北京）', 0.0005429181171026868), ('故障排查', 0.0005427895277570192), ('Cisco', 0.0005425117295168938), ('首席UI设计师', 0.0005417648211366499), ('高级UI设计师', 0.0005404785367383226), ('高级UI设计师（PAAS/北京）(J12835)', 0.0005404785367383226), ('ui设计师校招', 0.0005391907952518283), ('品牌', 0.0005368292041525744), ('海外游戏UI设计师', 0.0005358696763370571), ('资深产品经理', 0.0005355832558556719), ('UI交互设计师', 0.0005355649423681569), ('ui交互设计师', 0.0005355649423681569), ('系统运维工程师 (MJ007207)', 0.000535015612825329), ('运维顾问', 0.0005345654076990614), ('高级BI产品经理/高级数据产品经理', 0.0005337426036809958), ('商业搜索-商业数据产品经理', 0.0005336125043621873), ('UI设计师（社区）', 0.0005332620751525427), ('高级UI设计师(J10789)', 0.0005332620751525427), ('游戏后端开发工程师', 0.0005328881761839486), ('数据库产品经理', 0.0005324782090242976), ('高级大数据平台产品经理', 0.0005306713581394464), ('.NET运维工程师', 0.0005299956351465498), ('高级交互设计师(UE)', 0.0005297432955174217), ('数据分析产品经理(J12322)', 0.0005295846291612975), ('IT运维工程师', 0.0005268494446803202), ('网络运维', 0.0005258215507644461), ('技术总监（python数据中台）', 0.0005251327421244561), ('功能测试工程师', 0.0005247950485508295), ('UI设计师 (MJ007221)', 0.0005245724265778149), ('高级UI设计师 (MJ000227)', 0.0005245724265778149), ('UI设计师（小猿口算）', 0.0005245724265778149), ('UI设计师（APP方向）G05261', 0.0005245724265778149), ('故障监控', 0.0005239478840096845), ('新浪微博交互设计师', 0.0005228094649220111), ('后台产品经理', 0.0005220994824693217), ('系统运维工程师', 0.000521636518404877), ('Zabbix', 0.0005213259707648997), ('产品经理（社区/阅读类）', 0.0005197493571466487), ('AI数据产品经理', 0.0005197493571466487), ('UI设计师（交互）', 0.0005193897102229178), ('中间件开发运维工程师', 0.0005187604117873989), ('办公系统(高级)运维工程师-北京-01436', 0.0005183253588176963), ('小程序运维', 0.0005183253588176963), ('高级交互设计师 / 产品经理', 0.0005174738053844961), ('动效与交互设计师', 0.0005174738053844961), ('软件测试工程师（北京顺义）', 0.0005165681004871611), ('自然语言处理', 0.000515442858121877), ('java技术经理', 0.0005154005308957109), ('高级/资深交互设计师', 0.0005150366953755001), ('交互设计师(J10755)', 0.0005139327942025856), ('交互设计师 (MJ004321)', 0.0005139327942025856), ('交互设计师（实习生）', 0.0005139327942025856), ('高级Java开发工程师', 0.0005126147229975329), ('运维工程师-北京', 0.0005125566176637288), ('测试工程师(J12850)', 0.000512182700521144), ('资深产品经理（产品专家）', 0.0005109692958689964), ('大数据/数据库-产品经理', 0.0005109692958689964), ('产品经理-百度云运维平台', 0.0005109692958689964), ('高级运维开发工程师--ACFUN', 0.0005108948613917031), ('高级客服产品经理/专家', 0.0005095300081008379), ('高级车联网产品经理 &nbsp;/ &nbsp;产品总监&nbsp;', 0.0005095300081008379), ('产品经理（App数据）', 0.0005095300081008379), ('资深系统运维工程师 (MJ000326)', 0.0005094112482260271), ('邮件系统运维开发工程师（AD+exchange）', 0.0005073080621754085), ('高级Java工程师（北京）', 0.0005058356041452931), ('服务器端测试工程师', 0.0005047162880049284), ('应用系统运维工程师', 0.0005020219459519202), ('美团平台-游戏产品经理/产品策划', 0.000501889814669001), ('UE策划（游戏交互设计）', 0.000501889814669001), ('人力资源', 0.000501889814669001), ('组织发展（OD）', 0.000501889814669001), ('产品测试实习生', 0.0005017615934610484), ('中高级测试工程师', 0.0005015770838556088), ('安全运维工程师（北京）(J10398)', 0.0005007392872945553), ('运维工程师(J10010)', 0.0005007392872945553), ('资深运维开发工程师', 0.0005007392872945553), ('通州-运维工程师', 0.0005007073398972462), ('高级游戏测试工程师', 0.0005005358706540517), ('CDN', 0.0005004768283648903), ('灰盒测试', 0.0004972576343733118), ('Python高级算法工程师', 0.00049704242597839), ('技术经理（Java+大数据）', 0.0004969984838589223), ('测试团队负责人', 0.000496706650662314), ('高级测试开发工程师（FBS1wjw）', 0.0004966405742820037), ('无线网络测试工程师', 0.0004965090238280424), ('商业基础工程-运维开发工程师', 0.0004949655395685787), ('自动化测试工程师（接口）', 0.0004948016195269202), ('云平台运维（ELK、容器方向）', 0.0004919004129084455), ('高级JAVA-数据搜索方向', 0.0004918809283223375), ('软件测试工程师（黑盒测试）', 0.0004917874389349285), ('商业基础工程-高级运维开发工程师', 0.0004916821830495934), ('广告算法', 0.0004914106341125009), ('高级系统测试工程师', 0.0004907632225594021), ('运维工程师-【效率工程部】', 0.0004907250747059306), ('项目运维工程师', 0.0004906160886901928), ('资深游戏界面UI设计师', 0.0004904221932185224), ('Oracle', 0.0004898470107874136), ('资深运维工程师', 0.0004877889403662527), ('广告研发工程师-java', 0.00048766051566932685), ('服务端高级测试开发工程师(J190321023)', 0.0004875063729882558), ('测试开发工程师 (MJ003616)', 0.0004875063729882558), ('安全工程师（渗透测试方向）', 0.0004870448462921391), ('移动开发', 0.0004868330019198), ('python 实习生', 0.00048633089340025545), ('高级测试开发工程师', 0.0004861853956841302), ('python工程师', 0.0004853674675605941), ('中高级系统运维', 0.0004851429696891076), ('运维工程师-OP', 0.0004848079172677138), ('高级运维经理', 0.0004845279366314499), ('游戏ui设计师/GUI', 0.00048427516657516034), ('Python运维实习生', 0.0004833055839239227), ('高级Python经理', 0.0004823020993575257), ('系统运维（DBA）', 0.0004819529985239637), ('手绘', 0.0004809606575655847), ('云运维', 0.00048037275081786607), ('测试工程师', 0.00047989305332412084), ('测试工程师（APP端功能）', 0.00047989305332412084), ('App测试工程师（针对2020届）', 0.00047989305332412084), ('中级测试工程师', 0.00047989305332412084), ('移动端测试开发工程师 (MJ000038)', 0.00047989305332412084), ('产品与用户运营专家', 0.0004789174239691224), ('机器学习平台 Python 架构师', 0.0004785136359565798), ('硬件测试', 0.00047849509114766467), ('软件运维岗（PaaS运维）', 0.0004773130969516262), ('mysql/分布式数据库运维管理', 0.0004773027047605312), ('运维开发工程师（python）', 0.0004771863669946493), ('PHP架构师(J16751)', 0.00047611452717942915), ('CDN运维工程师', 0.0004758131297082147), ('交互设计专家（PaaS/北京）(J12635)', 0.00047431370683220396), ('Java开发高级工程师', 0.00047413092332325673), ('高级/资深后端开发工程师（PHP_Java）', 0.00047358933467177067), ('高级java架构师', 0.00047282302907219597), ('大数据运维工程师', 0.00047236095785092706), ('PHP后端开发工程师', 0.00047198306300823896), ('软件开发工程师（机器学习-后端）', 0.0004717450303264597), ('python开发与unit test测试', 0.00047126958145337223), ('高级Java后台开发工程师', 0.00047045019199229356), ('JAVA资深开发', 0.00047045019199229356), ('高级java游戏开发', 0.00047045019199229356), ('高级服务端java工程师', 0.00047045019199229356), ('java开发工程师（银行项目）', 0.0004703093473889705), ('Java-交易平台', 0.0004703093473889705), ('PHP/C++开发工程师', 0.00047024901948124545), ('python开发', 0.00046960922307957116), ('python开发主管', 0.00046960922307957116), ('Java技术专家', 0.00046932234766231223), ('web前端开发（在家办公）', 0.0004691764481669898), ('UE/UI设计师', 0.0004691764481669898), ('02-01-PHP后台工程师—中高级', 0.0004688694472882761), ('JAVA/PHP开发工程师', 0.0004683143847454051), ('php开发实习生', 0.0004683143847454051), ('PHP开发', 0.0004683143847454051), ('云运维工程师实习生', 0.00046774771732844916), ('用户行为研究部_PHP高级研发工程师', 0.0004671889644934971), ('PHP应用研发工程师', 0.0004671482216959421), ('B2B', 0.00046699867785907886), ('Python后端开发工程师', 0.000466964215699589), ('百度识图实习PHP开发工程师', 0.00046696421569958894), ('python后端开发工程师', 0.0004664700804000941), ('高级Python工程师', 0.0004664700804000941), ('Python技术经理', 0.0004664700804000941), ('python开发工程师（后端开发）', 0.0004664700804000941), ('python后台工程师', 0.0004664700804000941), ('Python后端', 0.0004664700804000941), ('webGL', 0.0004658809492154567), ('少儿编程讲师/Python/Web/Java', 0.00046575970775595226), ('JAVA高级工程师', 0.0004652377420637357), ('JAVA高级工程师（偏中台）', 0.00046442566059487576), ('高级测试研发工程师', 0.00046418057641936636), ('php开发工程师。', 0.00046404831091731663), ('php中级开发工程师', 0.0004635080431590202), ('PHP后台开发', 0.0004634932483744456), ('资深java研发工程师', 0.00046347622452033255), ('资深python', 0.00046340953786667765), ('PHP高级开发工程师（5年以上者！）', 0.0004628879536289126), ('交付运维工程师', 0.00046280978366920235), ('QA工程师', 0.0004626831383074483), ('后端工程师golang/PHP/python', 0.0004625432288100724), ('Python高级开发工程师', 0.00046218448773770963), ('Python程序员', 0.00046218448773770963), ('Python开发工程师 (MJ000092)', 0.00046218448773770963), ('PHP后端高级开发工程师', 0.000461865499641591), ('微博广告PHP高级研发工程师', 0.000461865499641591), ('资深php工程师/架构师', 0.000461865499641591), ('高级服务端研发工程师（PHP/Go）', 0.000461865499641591), ('服务端PHP开发工程师', 0.000461865499641591), ('GO/PHP研发工程师', 0.000461865499641591), ('golang/PHP后台开发工程师', 0.000461865499641591), ('java项目经理', 0.0004617936473390201), ('python后台开发（深圳）', 0.00046164894402913464), ('PHP工程师（高级）', 0.00046138378470303833), ('JAVA开发工程师', 0.0004609850558678), ('Web前端工程师（北京）', 0.0004604989022479756), ('后端PHP高级工程师', 0.0004602489918762307), ('PHP开发工程师（猫耳FM-北京）', 0.0004602489918762307), ('Python中高级开发工程师', 0.00046002119529628004), ('前端开发实习生', 0.0004599181752769805), ('PHP中高级工程师', 0.00045980303999902086), ('前端开发主管', 0.00045931829538480213), ('高级java开发工程师(北京）', 0.00045870346092543376), ('python后端研发工程师', 0.0004584046875309197), ('golang/Python开发工程师', 0.0004584046875309197), ('中级Java后台开发工程师', 0.000456068513032584), ('游戏设计', 0.00045581120244090684), ('JAVA工程师', 0.0004544824269004015), ('资深Web前端工程师', 0.0004542691325369703), ('后端开发工程师（php/go）', 0.0004539455423352432), ('Python讲师（Python Web方向）', 0.00045309836738189875), ('Java 软件开发工程师', 0.00045270752698320935), ('Python 后端开发（北京）', 0.0004525750119524676), ('web前端工程师（直播平台）', 0.00045252398985606683), ('web前端工程师(J10664)', 0.00045246397227096877), ('Php高级开发工程师/专家', 0.0004524209916513589), ('java中高级开发工程师', 0.0004522792729387201), ('PHP 后端工程师', 0.00045201947426868944), ('网络安全', 0.00045177194654363336), ('SQL', 0.0004515796573932219), ('php开发', 0.00045128769840571334), ('php全栈工程师', 0.00045123185934866007), ('高级软件开发工程师（Go/PHP）', 0.00045066096409293957), ('CSIG16-手机地图web前端开发（北京）', 0.0004504130547396823), ('测试工程师（大数据方向）', 0.0004503280838926217), ('客服系统测试工程师', 0.0004502572812454961), ('python数据开发工程师', 0.00045018447366669393), ('海外-Web前端开发工程师（上海）--3214', 0.00044970145114530584), ('30361-WEB前端工程师(北京)', 0.0004487646321158442), ('前台产品', 0.00044798599390045296), ('数据产品经理(J10086)', 0.00044733542073196), ('Web全栈工程师（python）', 0.0004464207670770605), ('java', 0.0004459852632848067), ('Web前端开发（北京）', 0.0004459665502807965), ('web前端工程师', 0.0004459117602097224), ('网页设计', 0.00044572511709280134), ('爬虫工程师', 0.0004421699867371978), ('UI设计师（数据可视化）', 0.00043682264218650874), ('教育', 0.0004354056831118288), ('B2B业务部_Web前端工程师', 0.000434846100922851), ('游戏主UI设计师', 0.0004344929649075838), ('C4D', 0.00043146132397546934), ('UE/UI设计实习', 0.0004299514479761719), ('数据产品经理(J15263)', 0.00042922279744902917), ('数据产品经理 (MJ004349)', 0.00042922279744902917), ('AI软件', 0.0004273774343768147), ('高级运维经理/总监', 0.0004258435473620786), ('海外社交产品经理(R82J1)', 0.00042230252189522115), ('后台产品经理(RKVJ1)', 0.0004210587977877833), ('安全工程师-渗透测试 (MJ000122)', 0.00041885146256357027), ('高级大数据产品经理', 0.0004159102604130828), ('AE软件', 0.00041366235754404463), ('高级UI设计师（游戏行业）', 0.00041010481923644263), ('海外产品运营专员', 0.00040351294394250844), ('销售支持', 0.00040351294394250844), ('推荐策略产品专家', 0.0004008541462460094), ('PHP架构师(J16747)', 0.00040080609060078336), ('金融产品经理（金融/数据）', 0.0003999310056473041), ('资深网络运维工程师 (MJ000056)', 0.00039963796036661625), ('资深游戏ui设计师', 0.00039836675832780294), ('直播UI设计实习生', 0.00039836675832780294), ('社区产品经理', 0.00039729492712078175), ('Python教研', 0.00039715371440084097), ('安全工程师—web渗透测试方向', 0.0003959577319528248), ('渗透测试工程师（安全）', 0.0003959577319528248), ('UI设计师G00151', 0.00039591535230881596), ('资深UI设计师/设计专家', 0.00039591535230881596), ('产品规划总监（AI+泛安防）', 0.0003957958741431978), ('用户增长', 0.0003940789010688343), ('服务端测试', 0.0003925422338860204), ('黑盒测试', 0.00039173401642699483), ('IDC机房综修运维工程师', 0.0003906828937829971), ('课件游戏UI设计师', 0.0003878882437565167), ('UI设计实习生', 0.0003860466947934236), ('游戏UI设计师（必须游戏UI经验）', 0.0003860466947934236), ('UI设计实习生（有实习经验）', 0.0003860466947934236), ('交互设计师', 0.00038585692317821536), ('高级交互设计师-抖音电商', 0.00038585692317821536), ('交互设计师-Lark', 0.00038585692317821536), ('资深交互设计师（UED平台）', 0.00038585692317821536), ('高级交互设计师（UED平台）', 0.00038585692317821536), ('高级交互设计师-垂直方向', 0.00038585692317821536), ('高级运维实施工程师', 0.00038474084001805875), ('运维开发负责人', 0.00038474084001805875), ('SaaS', 0.00038410039030953774), ('视频会议运维', 0.0003839104754797804), ('Scala', 0.00038357673995933784), ('数据采集', 0.0003821848896120751), ('网络运维二线工程师', 0.00038199415156303825), ('交互设计实习生', 0.0003817148596181642), ('商业运营平台部_CRM产品经理(数据分析方向)', 0.00038126102400037236), ('IDC运维工程师', 0.00038103652334177954), ('IT运维主管', 0.00038019829966867984), ('高级IT运维工程师', 0.00038019829966867984), ('运维架构师 (MJ000058)', 0.0003785951512281928), ('IT基础运维经理', 0.0003785951512281928), ('游戏UI设计师（面向欧美市场）', 0.00037848195679553295), ('主数据产品经理', 0.00037827680481469826), ('数据产品经理（网校） (MJ001302)', 0.00037827680481469826), ('高级数据产品经理(J14768)', 0.00037827680481469826), ('教学数据产品经理 (MJ003609)', 0.00037827680481469826), ('高级UI交互设计岗', 0.0003774119386425544), ('ui设计师', 0.0003774119386425544), ('UI设计师（实习生）', 0.0003774119386425544), ('UI设计师（有道事业部096）', 0.0003774119386425544), ('搜狗输入法-UI设计师', 0.0003774119386425544), ('【实习】UI设计（北京）', 0.0003774119386425544), ('集团总部UI设计师', 0.0003774119386425544), ('ui设计师UI设计师undefined', 0.0003774119386425544), ('内容运营', 0.00037732546058545993), ('联盟广告产品运营专家/专员-【商业化】', 0.0003773254605854599), ('UI设计师（北京）', 0.0003761241971560602), ('数据产品经理（北京）', 0.00037520555927314877), ('搜狗翻译-资深数据产品经理', 0.00037520555927314877), ('高级数据产品经理（自驾游业务）', 0.00037520555927314877), ('存储测试工程师', 0.00037351927462133457), ('Windows测试', 0.0003732449360276849), ('.net运维工程师（应届）', 0.0003730232368376277), ('C', 0.00037299275672137506), ('搜狗输入法-交互设计专家', 0.0003723085726571805), ('小米商城-资深交互设计师', 0.0003723085726571805), ('UED交互设计师', 0.0003723085726571805), ('海外-资深交互设计师（北京）', 0.0003723085726571805), ('交互设计师 (MJ000191)', 0.0003723085726571805), ('搜狗阅读-交互设计师', 0.000371494981283764), ('智能对话-高级产品经理-北京-03925', 0.0003707916581227224), ('高级产品经理 （增长/数据向）', 0.0003705439087771604), ('Ansible', 0.0003703757973798246), ('资深交互设计师', 0.00036987146264818443), ('交互设计师UX', 0.00036987146264818443), ('交互设计师（北京）(J10373)', 0.00036987146264818443), ('交互设计师 (MJ007235)', 0.00036987146264818443), ('高级交互设计师-B端', 0.00036987146264818443), ('QA游戏测试工程师', 0.00036971692194800543), ('资深QA/QA lead', 0.00036971692194800543), ('产品经理（客户端产品策划）（北京）', 0.0003694967435370459), ('产品经理/总监', 0.0003694967435370459), ('高级产品经理/产品专家', 0.0003694967435370459), ('数据产品经理—基础研发 (MJ004498)', 0.0003694967435370459), ('高级交互设计师', 0.0003687675614752699), ('高级交互设计师(J10561)', 0.0003687675614752699), ('互联网运维工程师', 0.0003687007267845418), ('国际化网络运维', 0.0003687007267845418), ('2020秋招-运维工程师', 0.0003687007267845418), ('安全运维工程师', 0.0003687007267845418), ('安全运维', 0.0003687007267845418), ('技术支持与运维', 0.0003687007267845418), ('驻场安全运维工程师', 0.0003687007267845418), ('运维工程师-北京（保险业务线）', 0.0003687007267845418), ('桌面运维专员', 0.00036866877938723276), ('实施运维经理（银行）', 0.00036866877938723276), ('it运维工程师', 0.00036866877938723276), ('银行交互设计师', 0.00036795555780976284), ('资深产品交互设计师', 0.00036795555780976284), ('资深交互设计师（BJ）', 0.00036795555780976284), ('内部系统运维', 0.00036773066143490075), ('系统安全运维', 0.0003676146726697038), ('Java开发工程师（电商方向）', 0.00036744026022376687), ('数据产品经理(数据中台方向)', 0.00036700697036869557), ('python数据工程师', 0.00036700697036869557), ('视频后台开发工程师', 0.0003663072647801642), ('高级产品经理（大数据方向）', 0.00036582848969786674), ('运维开发工程师', 0.0003627406035296213), ('高级运维（PCserver服务器、vmware）', 0.0003627406035296213), ('JAVA开发工程师（非功能测试方向）', 0.00036132509147880653), ('测试开发工程师（白盒测试）', 0.00036132509147880653), ('ERP测试工程师', 0.00036128156319551944), ('中级游戏测试工程师', 0.00036128156319551944), ('游戏项目测试（QA）', 0.00036024034999396237), ('资深云平台测试开发工程师', 0.0003596133360116573), ('Windows 运维', 0.00035868651419591706), ('综合运维工程师', 0.00035868651419591706), ('游戏测试工程师', 0.0003585721228101003), ('测试开发工程师 - 性能专项', 0.0003585282579897822), ('测试主管（创新业务）', 0.0003585282579897822), ('中高级性能测试工程师', 0.0003585282579897822), ('语音性能测试leader', 0.0003585282579897822), ('工具产品专家', 0.00035822218375423866), ('运维测试', 0.0003578401510834296), ('技术工程部-应用业务运维工程师', 0.0003575006095201985), ('运维架构师', 0.0003575006095201985), ('运维工程师（容器方向）', 0.00035658396867334), ('自动驾驶数据产品经理', 0.00035584315594112), ('数据库运维DBA', 0.0003557226094364292), ('DevOps运维专家', 0.00035543215874247764), ('AI算法测试工程师', 0.00035512842514607803), ('高级测试工程师（合作开发部）', 0.00035504565824480796), ('App测试工程师', 0.00035504565824480796), ('APP测试工程师', 0.00035504565824480796), ('运维经理', 0.0003535576944668976), ('测试开发工程师-金融事业部 (MJ002969)', 0.00035354822013288997), ('导航测试工程师', 0.00035354822013288997), ('CRM系统运维', 0.000352560720114927), ('Python工程师', 0.0003523868218035501), ('资深测试经理', 0.00035184851952476347), ('高级运维工程师', 0.00035108270786409173), ('运维开发岗', 0.00035108270786409173), ('资深运维工程师（北京）07-03-12', 0.00035108270786409173), ('高级运维工程师（新华互联）', 0.00035108270786409173), ('运维工程师(J11214)', 0.00035108270786409173), ('linux运维工程师', 0.00035108270786409173), ('资深运维工程师 (MJ000163)', 0.00035108270786409173), ('Java爬虫工程师', 0.0003503964750660324), ('Web/移动端测试工程师', 0.0003494261521607247), ('测试工程师（技术型）', 0.0003490952143190262), ('测试开发工程师（新业务线）', 0.00034905168603573914), ('python研发实习生', 0.0003487988827409298), ('MIG16-地图数据产品经理（北京）', 0.00034721315640556566), ('Python数据与爬虫工程师', 0.00034448723729926974), ('测试开发工程师/专家', 0.000344115176462134), ('Python算法实习生', 0.0003440578084925125), ('运维工程师（联合信任）', 0.00034403672406527577), ('python（API接口）', 0.00034377135609385074), ('高级PHP工程师', 0.00034280325333124403), ('高级手游测试工程师', 0.0003416492808148081), ('少儿编程老师-C++.PYTHON.JAVA', 0.0003407174933019873), ('Android', 0.00034027624084035903), ('资深java开发工程师（财务系统）', 0.0003399342102423746), ('JAVA后端开发工程师', 0.0003399342102423746), ('JAVA后端开发工程师-银行金融支付', 0.0003399342102423746), ('车联网JAVA后台开发工程师', 0.0003399342102423746), ('奇点广告平台-高级Java开发工程师', 0.0003399342102423746), ('开发运维', 0.0003399342102423746), ('Java工程师', 0.0003399342102423746), ('高级java', 0.0003399342102423746), ('java2021届实习生', 0.0003399342102423746), ('Java后端开发', 0.0003399342102423746), ('高级Java研发工程师 (MJ000250)', 0.0003399342102423746), ('企平研发部-Java资深开发/技术专家', 0.0003399342102423746), ('java实习生（2021届）', 0.0003399342102423746), ('大数据产品经理（技术类）', 0.00033943486693484716), ('Python 开发工程师', 0.00033889780839017663), ('PHP工程师', 0.0003377984029954861), ('PHP研发工程师', 0.0003377984029954861), ('PHP开发实习生', 0.0003377984029954861), ('资深/高级PHP工程师', 0.0003377984029954861), ('php开发工程师-C端业务', 0.0003377984029954861), ('PHP开发工程师 （实习生）', 0.0003377984029954861), ('PHP开发工程师-北京-00006', 0.0003377984029954861), ('PHP实习生', 0.0003377984029954861), ('诚聘PHP网站开发工程师', 0.0003377984029954861), ('WEB开发工程师（PHP）', 0.0003377984029954861), ('百度识图PHP开发工程师', 0.0003377984029954861), ('PHP开发工程师（项目）', 0.0003377984029954861), ('【新房】高级/资深PHP', 0.0003377984029954861), ('php程序员', 0.0003377984029954861), ('PHP 开发 PHP程序员', 0.0003377984029954861), ('php后台', 0.0003377984029954861), ('百度知识垂类 - PHP工程师', 0.0003377984029954861), ('母婴业务部_PHP高级研发工程师', 0.0003377984029954861), ('中高级测试工程师（石景山办公区）', 0.0003377214039826968), ('web前端开发专家G00064', 0.000337274790249025), ('腾讯社交广告服务端PHP高级开发工程师(北京)', 0.00033665756454137814), ('实时音视频通信后端开发工程师', 0.00033659389505184936), ('高级前端开发工程师 (MJ000242)', 0.000336285449906964), ('中高级前端开发工程师', 0.000336285449906964), ('资深系统运维工程师', 0.00033615561272323845), ('Python研发工程师', 0.0003359540986501751), ('Python后端开发工程师 (MJ006889)', 0.0003359540986501751), ('云平台开发工程师（Python后端开发）', 0.0003359540986501751), ('python爬虫开发工程师（实习生）', 0.0003359540986501751), ('Python开发实习生', 0.0003359540986501751), ('python实习生', 0.0003359540986501751), ('python 开发工程师', 0.0003359540986501751), ('实习JAVA/PHP开发', 0.0003351533956155039), ('PHP，C/C++高级研发工程师', 0.0003351533956155039), ('Java开发工程师（APP后端方向）', 0.000334659260316009), ('java开发工程师-壹账通', 0.000334659260316009), ('JAVA架构师', 0.000334659260316009), ('python(odoo开发工程师)', 0.000334659260316009), ('高级php', 0.000334659260316009), ('JAVA/PHP开发', 0.000334659260316009), ('PHP资深研发工程师', 0.000334659260316009), ('Python/Go开发工程师', 0.00033443004033076795), ('高级软件开发工程师-Java', 0.0003333090912701929), ('高级python工程师(J11346)', 0.0003333090912701929), ('Java开发工程师', 0.00033310108737373664), ('PHP研发工程师：（运营营销方向）', 0.00033299206140910117), ('PHP开发工程师（YII2框架）', 0.00033299206140910117), ('Web前端开发工程师（可全栈）——美餐网', 0.00033236352725187466), ('商业运营平台部_Web前端开发工程师', 0.00033236352725187466), ('集团总部web前端开发工程师', 0.00033236352725187466), ('软件测试工程师（YD-BJ）G00142', 0.00033222863613265296), ('Web前端开发工程师G00031', 0.0003321497734077764), ('web前端工程师（React）', 0.0003321497734077764), ('Java架构师', 0.0003320272470601534), ('python开发工程师', 0.0003320272470601534), ('软件开发工程师,Java', 0.0003320142529360268), ('java游戏服务器', 0.0003320142529360268), ('B2B业务部_PHP研发工程师', 0.00033181308042497866), ('数据中台产品经理', 0.0003312822167153972), ('中高级Python开发工程师', 0.00033117328402330437), ('PHP高级研发工程师（数据采集方向）', 0.00033117328402330437), ('初级PHP', 0.00033117328402330437), ('资深PHP开发', 0.0003308202406359875), ('java研发工程师', 0.0003304560799937545), ('php开发工程师-高级', 0.0003298784456891383), ('PHP开发工程师/架构师', 0.00032973760108581516), ('数据库运维开发工程师', 0.0003286161906797087), ('python', 0.0003280341413438273), ('Python后端开发', 0.0003280341413438273), ('高级python研发工程师', 0.0003280341413438273), ('测试工程师（数据方向）', 0.0003273676555042512), ('移动端测试开发专家', 0.0003273676555042512), ('海外-Web前端开发工程师--2673', 0.00032702773292198945), ('高级Python后端工程师', 0.0003268679782943643), ('python 高级工程师', 0.0003268679782943643), ('Java高级研发工程师', 0.000326801803007469), ('PHP高级研发工程师', 0.00032559285302675376), ('PHP高级开发工程师', 0.00032559285302675376), ('用户数据中心_数据平台php开发工程师', 0.00032559285302675376), ('PHP开发工程师(J10030)', 0.00032559285302675376), ('WEB前端实训项目经理', 0.00032417486101586764), ('web前端开发工程师（PC端方向）', 0.00032406094499570087), ('Python中级开发工程师', 0.0003237485486814428), ('资深PHP开发工程师', 0.0003234295605853242), ('Go/PHP开发工程师', 0.0003234295605853242), ('PHP/GO开发工程师', 0.0003234295605853242), ('PHP/GO开发工程师-JSZX', 0.0003234295605853242), ('python研发工程师（云平台后端）', 0.00032321300497286786), ('python实训项目经理', 0.00032321300497286786), ('嵌入式软件测试', 0.00032295330417346133), ('Python/Go研发工程师', 0.00032158525624001325), ('python 开发工程师 （业务风控）', 0.0003199687484746529), ('前端工程师', 0.0003195146027128837), ('LBS', 0.00031861521802535776), ('旅游', 0.00031861521802535776), ('二次元', 0.00031693319249939195), ('模式识别', 0.000315638463638508), ('建模', 0.000315638463638508), ('后端开发工程师PHP', 0.00031553680425914875), ('Go后台开发工程师', 0.0003154692815348877), ('ToB商业化大数据产品经理 — 数据分析专家', 0.00031441275743671017), ('CRM高级产品专家', 0.00031441275743671017), ('美团打车-财务产品经理', 0.00031441275743671017), ('数据策略产品经理', 0.00031441275743671017), ('资深数据产品经理', 0.00031441275743671017), ('数据平台产品经理', 0.00031441275743671017), ('数据产品经理（用户画像方向）', 0.00031441275743671017), ('数据产品经理-反作弊方向', 0.00031441275743671017), ('用户增长数据产品经理', 0.00031441275743671017), ('美团打车-数据产品经理', 0.00031441275743671017), ('高级产品经理（数据产品）-飞书', 0.00031441275743671017), ('数据平台产品经理-企业应用', 0.00031441275743671017), ('数据产品经理-审核平台方向', 0.00031441275743671017), ('反作弊数据产品经理', 0.00031441275743671017), ('内容数据产品经理', 0.00031441275743671017), ('数据产品经理（数据仓库产品）-企业级产品', 0.00031441275743671017), ('数据产品经理（BI方向）', 0.00031441275743671017), ('电商数据产品经理', 0.00031441275743671017), ('客户数据平台高级产品经理', 0.00031441275743671017), ('商业策略产品经理-数据产品方向', 0.00031441275743671017), ('高级商业数据产品经理', 0.00031441275743671017), ('资深商业数据产品经理', 0.00031441275743671017), ('高级数据产品经理-数据研发套件（数据中台）方向', 0.00031441275743671017), ('高级数据产品经理-流量埋点平台方向', 0.00031441275743671017), ('数据产品-指数方向产品经理', 0.00031441275743671017), ('数据产品经理-大数据分析应用', 0.00031441275743671017), ('高级/资深数据中台产品经理', 0.00031441275743671017), ('ToB商业化大数据产品经理 — 数据营销', 0.00031441275743671017), ('ToB商业化大数据产品经理 — 用户增长', 0.00031441275743671017), ('资深商业数据产品经理-数据平台', 0.00031441275743671017), ('数据产品经理-实验评估方向', 0.00031441275743671017), ('数据产品经理-分析工具', 0.00031441275743671017), ('数据产品经理-精细化运营方向', 0.00031441275743671017), ('数据产品经理-开发套件方向', 0.00031441275743671017), ('数据产品经理-智能分析方向', 0.00031441275743671017), ('数据产品经理-游戏行业方向', 0.00031441275743671017), ('ToB商业化数据产品经理-数据平台', 0.00031441275743671017), ('数据产品经理-行为分析方向', 0.00031441275743671017), ('游戏交互设计师', 0.00031441275743671017), ('社交电商', 0.00031441275743671017), ('WEB前端程序员', 0.00031310920172899625), ('高级前端工程师', 0.00031310920172899625), ('交互设计总监(J12635)', 0.0003073620637441877), ('交互设计Leader 3-3', 0.0003073620637441877), ('O2O', 0.00030661389060159016), ('手游', 0.00030615752457448784), ('日韩风', 0.00030615752457448784), ('美术设计', 0.00030615752457448784), ('商业', 0.0002917273188660081), ('实施', 0.00029128153924042597), ('高级软件测试工程师', 0.0002895407811617241), ('深度学习', 0.00028881162613177944), ('语音合成', 0.00028653005117586965), ('图像处理', 0.00028653005117586965), ('语音识别', 0.00028653005117586965), ('外观设计', 0.00028322564004560865), ('呼叫中心', 0.0002810060803918377), ('数据产品经理（数据中台方向） (MJ004497)', 0.0002685772181071598), ('数据产品经理-数据治理&amp;数据平台方向', 0.0002685772181071598), ('大数据基础平台产品经理', 0.0002685772181071598), ('功耗测试', 0.0002682850176405292), ('系统测试', 0.00026824327959228144), ('数据架构', 0.0002680530169526077), ('后台', 0.00026592645459764424), ('抓取', 0.00026521045653573076), ('数据抓取', 0.00026521045653573076), ('网络', 0.0002634764350939753), ('战略管理', 0.0002634393338282839), ('目标管理', 0.0002634393338282839), ('高级前端开发工程师', 0.00026333869734543477), ('企平研发部-Web前端开发工程师', 0.00026333869734543477), ('基础技术部-Web前端工程师-运维与前端', 0.00026333869734543477), ('基础技术部-Web前端工程师-效能产品', 0.00026333869734543477), ('SG闪购-Web前端工程师/技术专家', 0.00026333869734543477), ('美团平台-Web前端开发工程师', 0.00026333869734543477), ('美团平台-Web前端工程师', 0.00026333869734543477), ('无人机配送中心-Web前端开发工程师/专家', 0.00026333869734543477), ('web前端工程师-企业应用', 0.00026333869734543477), ('视觉智能中心-web前端工程师', 0.00026333869734543477), ('Web前端开发实习生', 0.00026333869734543477), ('在线教育产品', 0.000261935257063918), ('合伙人', 0.0002597575726041654), ('区域管理', 0.0002597575726041654), ('高级产品经理（专家）', 0.0002595247857823039), ('商业化高级产品经理/产品专家（CRM）', 0.0002558223747888312), ('高级产品经理(数据产品方向)', 0.0002558223747888312), ('营销策略数据产品经理', 0.0002558223747888312), ('信息流广告-大数据商业产品经理', 0.0002558223747888312), ('原画', 0.0002542802261782895), ('创意设计', 0.0002536002825208378), ('平面设计', 0.0002533373760746488), ('自动化测试工程师', 0.000251161635204056), ('系统集成', 0.00025004540265838717), ('Axure', 0.00024920006232515544), ('墨刀', 0.00024920006232515544), ('结构设计', 0.000248632258384335), ('场景', 0.0002467464363466608), ('包装设计', 0.00024472236100264255), ('C#/.NET', 0.00024467231237492294), ('硬件交互', 0.0002441089680221349), ('爬虫架构', 0.00024266686971129031), ('业务流程管理', 0.00024265257172483858), ('高级游戏UI设计师-北京-00280', 0.00024143593382116256), ('投产运维管理岗', 0.00024130005062603397), ('Devops / 运维总监', 0.00024130005062603397), ('运维总监/高级经理', 0.00024130005062603397), ('运维负责人 (MJ000289)', 0.00024130005062603397), ('高级开发工程师（后台方向）', 0.00023952869071908954), ('Java开发工程师/专家(数据平台）', 0.00023952869071908954), ('python讲师', 0.00023952869071908954), ('视频编解码', 0.00023720652860752776), ('音频编解码', 0.00023720652860752776), ('游戏界面', 0.00023704078967714563), ('高级产品经理', 0.00023696140686571213), ('Hive', 0.00023653985144858516), ('计算机视觉', 0.00023602226076076168), ('中间件运维', 0.00023537781761012657), ('网络爬虫', 0.000234525289826687), ('游戏视觉设计', 0.00023423334500005923), ('渠道商务运维', 0.00023398901660964501), ('Python讲师', 0.00023398901660964501), ('UI设计leader', 0.00023395303771438455), ('交互设计经理', 0.0002326589825978395), ('Helpdesk', 0.00023057366763552537), ('电商', 0.00022923931373208963), ('腾讯视频儿童版移动终端测试开发工程师（北京）', 0.00022922082486513326), ('交互设计实习生-垂直方向', 0.00022896370922079965), ('美团平台-游戏交互设计师', 0.00022896370922079965), ('资深ui设计师', 0.00022896370922079965), ('UI设计师(J10123)', 0.00022896370922079965), ('资深UI设计师', 0.00022896370922079965), ('UI设计师(JC2J1)', 0.00022896370922079965), ('UI设计师(8BA51)', 0.00022896370922079965), ('UI设计师-垂直方向', 0.00022896370922079965), ('搜狗输入法-UI设计师-北京', 0.00022896370922079965), ('美团平台-游戏UI设计师', 0.00022896370922079965), ('高级/资深 UI设计师', 0.00022896370922079965), ('UI设计师180824', 0.00022896370922079965), ('UI设计师-快驴事业部', 0.00022896370922079965), ('APP UI设计师', 0.00022896370922079965), ('资深游戏UI设计师', 0.00022896370922079965), ('UI设计师（电商B端/C端）', 0.00022896370922079965), ('车载UI设计师', 0.00022896370922079965), ('UI设计-金融平台', 0.00022896370922079965), ('29310P-UI设计师', 0.00022896370922079965), ('短视频高级UI设计师', 0.00022896370922079965), ('海外-资深UI设计师', 0.00022896370922079965), ('高级UI设计师—核心应用', 0.00022896370922079965), ('UI设计师(J11116)', 0.00022896370922079965), ('游戏UI设计（请附游戏UI作品）', 0.00022896370922079965), ('资深UI设计师--手游', 0.00022896370922079965), ('UI设计师助理—2020校招', 0.00022896370922079965), ('UI设计师 (MJ000142)', 0.00022896370922079965), ('资深UI设计师(J15573)', 0.00022896370922079965), ('UI设计师组长', 0.00022896370922079965), ('2020届-游戏ui设计师-北京-05398', 0.00022896370922079965), ('UI设计师-B端数据方向', 0.00022896370922079965), ('UI设计师-薄荷工作室-北京-04661', 0.00022896370922079965), ('高级UE交互设计师', 0.00022877393760559143), ('交互设计-金融平台', 0.00022877393760559143), ('交互设计师-LBS', 0.00022877393760559143), ('交互设计师-机票/火车票业务', 0.00022877393760559143), ('交互设计师-快驴事业部', 0.00022877393760559143), ('交互设计-美团App', 0.00022877393760559143), ('Swift', 0.00022845426003539117), ('政府项目', 0.00022795677493698264), ('内容产品', 0.0002263600414710431), ('商业反作弊-反作弊产品经理', 0.00022579522513407478), ('大数据-数据产品经理-北京-02824', 0.00022579522513407478), ('商业/数据分析师、数据产品经理', 0.00022579522513407478), ('流量中台高级数据产品经理', 0.00022579522513407478), ('数据产品经理-【商业化】', 0.00022579522513407478), ('腾讯视频会员数据产品经理（北京）', 0.00022579522513407478), ('企鹅号数据产品经理', 0.00022579522513407478), ('数据分析课程产品经理', 0.00022579522513407478), ('用户行为研究部_数据分析产品经理', 0.00022579522513407478), ('微信生态数据产品经理 (MJ003314)', 0.00022579522513407478), ('技术工程部-数据产品经理（BI）', 0.00022579522513407478), ('数据产品经理（分析方向）', 0.00022579522513407478), ('游戏开发', 0.0002252761337649434), ('思维导图', 0.0002246291194888962), ('.NET', 0.00022442765783003312), ('容器平台运维工程师（配置管理）', 0.0002238880048029106), ('腾讯地图高级交互设计师', 0.00022279032508244718), ('ue交互设计师', 0.00022279032508244718), ('搜狗手机输入法-高级交互设计师', 0.00022279032508244718), ('交互设计师-金融', 0.00022279032508244718), ('高级/资深交互设计师（合作开发部）', 0.00022279032508244718), ('交互设计师（PAAS/北京）(J12704)', 0.00022279032508244718), ('交互设计师（UE）', 0.00022279032508244718), ('高级交互设计师（有道事业群703）', 0.00022279032508244718), ('产品交互设计师', 0.00022279032508244718), ('交互设计师 (MJ000262)', 0.00022279032508244718), ('交互设计实习生 (MJ000252)', 0.00022279032508244718), ('高级交互设计师（网校） (MJ001130)', 0.00022279032508244718), ('交互设计师（实习）', 0.00022279032508244718), ('资深交互设计专家', 0.00022279032508244718), ('游戏交互设计师（业务平台） (MJ001169)', 0.00022279032508244718), ('交互设计师-美团出行', 0.00022279032508244718), ('交互设计-美团单车', 0.00022279032508244718), ('交互设计师-美团买菜', 0.00022279032508244718), ('海外-资深交互设计师（北京）--3239', 0.00022279032508244718), ('交互设计师（北京）', 0.00022279032508244718), ('交互设计师 (MJ007170)', 0.00022279032508244718), ('数据产品经理（数据仓库）', 0.0002227239795925253), ('高级数据产品经理 (MJ000595)', 0.0002227239795925253), ('应用运维岗', 0.00022176712187116352), ('硬件测试工程师', 0.00022099387680146496), ('H5测试', 0.00022065216215331806), ('企业信息化系统运维', 0.00021968642899337267), ('CD', 0.00021949027393233398), ('兼容性测试', 0.00021930139422651057), ('JAVA开发工程师（运维平台方向）', 0.00021904414735407824), ('运维工程师(J10289)', 0.00021904414735407824), ('桌面运维工程师', 0.00021904414735407824), ('运维实习生', 0.00021904414735407824), ('系统运维工程师/专家', 0.00021904414735407824), ('高级应用运维工程师', 0.00021904414735407824), ('运维产品经理', 0.00021904414735407824), ('SAP/Oracle 日常运维', 0.00021904414735407824), ('运维开发工程师（高级）', 0.00021904414735407824), ('运维研发工程师 (MJ004302)', 0.00021904414735407824), ('ACG运维开发工程师', 0.00021904414735407824), ('云平台-安全运维工程师', 0.00021904414735407824), ('资深运维工程师—公共产研部 (MJ004409)', 0.00021904414735407824), ('应用运维工程师', 0.00021904414735407824), ('DevOps运维开发工程师', 0.00021904414735407824), ('软件运维岗', 0.00021904414735407824), ('视频会议系统运维工程师', 0.00021904414735407824), ('基础架构运维工程师', 0.00021904414735407824), ('视频运维工程师', 0.00021904414735407824), ('运维工程师(007071)', 0.00021904414735407824), ('游戏运维工程师', 0.00021904414735407824), ('个案运维', 0.00021904414735407824), ('运维实施工程师', 0.00021904414735407824), ('高级SRE运维工程师（北京）', 0.00021904414735407824), ('高级IT运维工程师 (MJ000057)', 0.00021904414735407824), ('服务器系统运维工程师（北京）', 0.00021904414735407824), ('运维开发工程师（平台）', 0.00021904414735407824), ('音视频运维工程师', 0.00021904414735407824), ('中高级运维(北京)', 0.00021904414735407824), ('设备运维工程师', 0.00021904414735407824), ('运维工程师（2021届实习）(J12790)', 0.00021904414735407824), ('运维开发讲师(J12745)', 0.00021904414735407824), ('服务运维部-CDN技术保障专家', 0.00021904414735407824), ('分布式存储运维开发工程师', 0.00021904414735407824), ('公有云-运维工程师-高级（稻香湖）', 0.00021904414735407824), ('数据平台-大数据运维工程师/专家', 0.00021904414735407824), ('高级运维研发工程师', 0.00021904414735407824), ('运维岗', 0.00021904414735407824), ('运维工程师(J11119)', 0.00021904414735407824), ('视频会议系统运维', 0.00021904414735407824), ('SAP-FICO运维工程师', 0.00021904414735407824), ('运维工程师（资产管理）', 0.00021904414735407824), ('运维工程师-JS', 0.00021904414735407824), ('python开发工程师（运维方向）-JS', 0.00021904414735407824), ('大数据运维开发工程师', 0.00021904414735407824), ('移动设备运维工程师(MJ004235)', 0.00021904414735407824), ('00021-系统运维工程师', 0.00021904414735407824), ('00020-网络运维工程师', 0.00021904414735407824), ('资深业务运维工程师', 0.00021904414735407824), ('云计算产品运维工程师', 0.00021904414735407824), ('深度学习平台运维', 0.00021904414735407824), ('动效设计', 0.00021831007844209891), ('高级测试工程师 (MJ000075)', 0.00021823273732969286), ('测试经理', 0.00021823273732969286), ('测试实习生 (MJ000040)', 0.00021823273732969286), ('QA游戏测试', 0.00021823273732969286), ('数据测试实习生', 0.00021823273732969286), ('测试研发工程师', 0.00021823273732969286), ('企平研发部-资深测试开发工程师', 0.00021823273732969286), ('基础技术部-测试开发工程师', 0.00021823273732969286), ('测试开发实习生-新业务', 0.00021823273732969286), ('测试开发专家', 0.00021823273732969286), ('功能测试专家', 0.00021823273732969286), ('软件测试工程师', 0.00021823273732969286), ('科技测试岗', 0.00021823273732969286), ('自动驾驶系统功能测试-无人车配送中心', 0.00021823273732969286), ('美团地图服务部-高级/资深大数据测试工程师', 0.00021823273732969286), ('测试工程师-【社交】', 0.00021823273732969286), ('高级测试开发工程师-效率中台', 0.00021823273732969286), ('测试工程师（服务端）', 0.00021823273732969286), ('腾讯广告高级系统测试工程师', 0.00021823273732969286), ('OpenStack高级测试', 0.00021823273732969286), ('广告平台测试工程师', 0.00021823273732969286), ('测试经理（英文好）', 0.00021823273732969286), ('测试高级工程师(J11471)', 0.00021823273732969286), ('测试开发实习生（可转正）', 0.00021823273732969286), ('测试开发工程师(J10451)', 0.00021823273732969286), ('QA工程师 (MJ000462)', 0.00021823273732969286), ('测试工程师（技术） (MJ000513)', 0.00021823273732969286), ('软件测试设计师', 0.00021823273732969286), ('自动化测试实习生', 0.00021823273732969286), ('测试开发工程师（交易平台）', 0.00021823273732969286), ('初级测试工程师', 0.00021823273732969286), ('数据测试工程师', 0.00021823273732969286), ('产品专家', 0.0002181889191904467), ('大数据产品经理【北京】', 0.0002181889191904467), ('数据策略产品经理 (MJ003410)', 0.0002181889191904467), ('产品经理-数据策略方向', 0.0002181889191904467), ('高级数据产品经理（B端）', 0.0002181889191904467), ('数据产品经理(J10366)', 0.0002181889191904467), ('数据产品经理-【效率工程】', 0.0002181889191904467), ('数据库产品经理（DBA转）', 0.0002181889191904467), ('数据产品经理（汽车后市场）', 0.0002181889191904467), ('数据产品经理（舆情方向）', 0.0002181889191904467), ('Jenkins', 0.00021784049629641918), ('游戏测试实习生', 0.0002171915241281358), ('兼职游戏测试', 0.0002171915241281358), ('产品经理（客户端产品策划）', 0.00021701516385642244), ('产品策划专员', 0.00021701516385642244), ('高德-高级产品经理/专家-共享', 0.00021701516385642244), ('数据策略产品经理 (MJ004507)', 0.00021701516385642244), ('Jmeter', 0.00021638149358116758), ('it直播运维', 0.00021533197154297772), ('自动化运维工程师', 0.00021533197154297772), ('MFC', 0.00021507773775105937), ('Redis', 0.0002149420839745961), ('人脸识别', 0.0002148728365508724), ('TCP协议', 0.0002132449772367222), ('交互设计师讲师', 0.00021168457590264593), ('SOA', 0.00021163787335822386), ('图像算法', 0.00021106085945304156), ('SDK', 0.00021038701284667064), ('php架构师', 0.000209148128901848), ('资深测试开发工程师', 0.0002087996936589369), ('测试开发-交易平台', 0.0002087996936589369), ('ERP测试开发资深工程师/专家', 0.0002087996936589369), ('车联网测试交付经理（北京）', 0.0002087996936589369), ('测试开发专家G00050', 0.0002087996936589369), ('中高级测试开发工程师', 0.0002087996936589369), ('测试工程师(J10094)', 0.0002087561653756498), ('测试工程师（北京）', 0.0002087561653756498), ('测试工程师（功能）', 0.0002087561653756498), ('Python算法开发工程师', 0.00020826687681622791), ('bootstrap', 0.00020807234774138705), ('Unity3d', 0.00020722449188562332), ('中高级测试运维工程师（石景山办公区）', 0.0002070879381917877), ('资深/专家性能测试工程师', 0.00020600286016991254), ('虚拟化运维工程师', 0.00020450334323917464), ('高级运维开发工程师', 0.00020416380167594347), ('运维工程师-北京-00988', 0.00020416380167594347), ('后台开发工程师', 0.00020414327856609), ('Java高级开发工程师', 0.00020414327856609), ('java后端开发工程师', 0.00020414327856609), ('高级java开发工程师', 0.00020414327856609), ('Java开发工程师（4年以上经验）', 0.00020414327856609), ('高级Java开发工程师-【主App】', 0.00020414327856609), ('后端开发工程师（java）', 0.00020414327856609), ('高级Java开发工程师-【X3】', 0.00020414327856609), ('高级Java开发工程师-【课堂】', 0.00020414327856609), ('高级后端开发⼯工程师', 0.00020414327856609), ('Java开发工程师（爬虫）', 0.00020414327856609), ('中高级JAVA开发工程师', 0.00020414327856609), ('Java技术专家（智能运维平台方向）', 0.00020414327856609), ('Java架构师 (MJ000332)', 0.00020414327856609), ('java架构师-【电商】', 0.00020414327856609), ('java开发工程师（中级）', 0.00020414327856609), ('资深Java开发工程师', 0.00020414327856609), ('后端Java', 0.00020414327856609), ('高级研发工程师（java） (MJ000142)', 0.00020414327856609), ('Java研发工程师(82GJ1)', 0.00020414327856609), ('JAVA', 0.00020414327856609), ('Python开发工程师-变现业务', 0.00020414327856609), ('高级Python开发工程师', 0.00020414327856609), ('高德-高级开发工程师/专家-Python/Go', 0.00020414327856609), ('高级Python开发工程师/爬虫/spider', 0.00020414327856609), ('python后端实习生（可转正）', 0.00020414327856609), ('Python Web全栈研发实习生', 0.00020414327856609), ('c++/java/Python/go', 0.00020414327856609), ('Java/Python工程师', 0.00020414327856609), ('软件工程师（Python/PHP/Java）', 0.00020414327856609), ('php', 0.00020414327856609), ('PHP开发工程师-电商', 0.00020414327856609), ('高级PHP开发工程师—如视', 0.00020414327856609), ('PHP后台开发工程师', 0.00020414327856609), ('php工程师', 0.00020414327856609), ('PHP高级技术经理', 0.00020414327856609), ('后端工程师-PHP', 0.00020414327856609), ('PHP高级开发工程师(J14313)', 0.00020414327856609), ('经验业务部_PHP高级研发工程师', 0.00020414327856609), ('文库业务部_PHP后端研发工程师', 0.00020414327856609), ('PHP专家', 0.00020414327856609), ('资深软件开发工程师（Go/PHP）', 0.00020414327856609), ('PHP/JAVA/GO工程师', 0.00020414327856609), ('PHP开发工程师/高级开发工程师', 0.00020414327856609), ('GO/PHP高级开发工程师', 0.00020414327856609), ('PHP技术经理', 0.00020414327856609), ('PHP开发工程师（北京）', 0.00020414327856609), ('高级PHP开发工程师-漫漫', 0.00020414327856609), ('PHP/GO研发工程师', 0.00020414327856609), ('GO/PHP开发实习生', 0.00020414327856609), ('PHP研发工程师实习生', 0.00020414327856609), ('PHP后台工程师', 0.00020414327856609), ('后端开发工程师(PHP/GO)', 0.00020414327856609), ('知识中台业务部_高级PHP研发工程师', 0.00020414327856609), ('百科业务部_PHP高级研发工程师', 0.00020414327856609), ('知道业务部_高级PHP研发工程师', 0.00020414327856609), ('中级web前端工程师', 0.00020252026042493835), ('Python Web开发工程师', 0.00020244912019994372), ('易快报-运维开发工程师', 0.00020209535089822262), ('搜狗阅读-java后端开发工程师', 0.00020149827118610782), ('SA-腾讯社交广告Java后台开发工程师（北京）', 0.00020149827118610782), ('后端开发工程师-Java', 0.00020149827118610782), ('高级Java开发工程师(J10997)', 0.00020149827118610782), ('高级后端开发工程师（Java）', 0.00020149827118610782), ('JAVA开发工程师（工具平台方向）', 0.00020149827118610782), ('高级Java开发工程师-【电商】', 0.00020149827118610782), ('Java高级开发工程师（QQ阅读）', 0.00020149827118610782), ('Java高级开发工程师（合作开发部）', 0.00020149827118610782), ('java工程师', 0.00020149827118610782), ('高级JAVA开发工程师', 0.00020149827118610782), ('高级Java工程师', 0.00020149827118610782), ('搜狗手机浏览器-高级Java服务端开发工程师', 0.00020149827118610782), ('云平台基础架构-高级Java工程师', 0.00020149827118610782), ('资深Java工程师（广告投放平台）', 0.00020149827118610782), ('高级java工程师/架构师', 0.00020149827118610782), ('java实习生', 0.00020149827118610782), ('JAVA高级开发工程师', 0.00020149827118610782), ('Java技术经理', 0.00020149827118610782), ('JAVA研发主管/JAVA高级研发工程师', 0.00020149827118610782), ('企平研发部-Java栈架构师', 0.00020149827118610782), ('音视频', 0.00020149827118610782), ('高级测试工程师（用户端方向）', 0.00020102282231302033), ('客户端测试专家', 0.00020102282231302033), ('web前端开发工程师(仅限应届生)', 0.00020046186933390985), ('资深前端工程师（Web前端） (MJ000399)', 0.00020046186933390985), ('智能交通业务部_高级web前端开发工程师', 0.00020046186933390985), ('Web前端工程师（应届生）(J10690)', 0.00020046186933390985), ('中高级Web前端工程师', 0.00020046186933390985), ('Web前端开发工程师(J10174)', 0.00020046186933390985), ('资深前端工程师/前端开发专家', 0.00020046186933390985), ('web前端开发工程师 (MJ000913)', 0.00020046186933390985), ('php(金融）', 0.0001999175264820903), ('运维专家G00063', 0.00019976760133483905), ('高级PHP开发工程师', 0.00019936246393921928), ('资深PHP专家', 0.00019936246393921928), ('PHP开发工程师（电商经验）', 0.00019936246393921928), ('SA-腾讯社交广告服务端PHP高级开发工程师', 0.00019936246393921928), ('PHP开发工程师（增值）', 0.00019936246393921928), ('资深PHP研发工程师', 0.00019936246393921928), ('高级PHP研发工程师 (MJ004444)', 0.00019936246393921928), ('php开发工程师-内部系统方向', 0.00019936246393921928), ('高级PHP工程师 (MJ003724)', 0.00019936246393921928), ('PHP(J10025)', 0.00019936246393921928), ('汽车业务部_PHP开发工程师', 0.00019936246393921928), ('PHP后端实习', 0.00019936246393921928), ('后端工程师（PHP/GO）', 0.00019936246393921928), ('php开发工程师（短视频）', 0.00019936246393921928), ('php开发工程师（广告投放）', 0.00019936246393921928), ('实习PHP', 0.00019936246393921928), ('高级/资深PHP工程师', 0.00019936246393921928), ('PHP开发工程师（API方向）', 0.00019936246393921928), ('PHP工程师（前端业务）', 0.00019936246393921928), ('PHP工程师（通用组件）', 0.00019936246393921928), ('\\u200b高级PHP研发工程师（通用组件）', 0.00019936246393921928), ('C++/PHP研发工程师', 0.00019815795599558258), ('Web前端工程师', 0.00019760899742778804), ('WEB前端讲师', 0.00019760899742778804), ('web前端开发工程师（商业化方向）', 0.00019760899742778804), ('高级web前端开发工程师', 0.00019760899742778804), ('web前端开发工程师，PHP程序员', 0.00019760899742778804), ('信息流-Python开发工程师', 0.0001975181595939083), ('搜狗金融-Python后端开发工程师', 0.0001975181595939083), ('Python开发（情报分析平台）', 0.0001975181595939083), ('高级Python研发工程师', 0.0001975181595939083), ('Python 高级开发工程师', 0.0001975181595939083), ('Python实习生', 0.0001975181595939083), ('Python研发工程师（高级）', 0.0001975181595939083), ('资深Python/Go工程师', 0.0001975181595939083), ('Python专家(J12747)', 0.0001975181595939083), ('python web 课程研究员', 0.0001975181595939083), ('Python助教', 0.0001975181595939083), ('大数据基础架构工程师（python）', 0.0001975181595939083), ('物联网安全Python开发岗位', 0.0001975181595939083), ('Python课程研究员(J12249)', 0.0001975181595939083), ('Python开发工程师经理', 0.0001975181595939083), ('python专家(J12716)', 0.0001975181595939083), ('Python软件工程师', 0.0001975181595939083), ('python开发工程师(校招+社招）', 0.0001975181595939083), ('资深python系统开发工作师', 0.0001975181595939083), ('分布式数据库运维工程师（睿云奇智）', 0.00019634080530073236), ('Java开发工程师（休闲游戏）', 0.0001962233212597422), ('高级Java研发工程师', 0.0001962233212597422), ('Java高级游戏程序员', 0.0001962233212597422), ('Python游戏研发', 0.0001962233212597422), ('Python高级/中级研发工程师(安全方向)', 0.0001962233212597422), ('php开发 (MJ004356)', 0.0001962233212597422), ('Python研发工程师(J11513)', 0.0001960824766564191), ('中高级JAVA软件开发工程师', 0.0001935913080038866), ('高级web前端开发', 0.00019227320309790283), ('PHP研发工程师—贝壳如视', 0.00019140218488878277), ('产品总监', 6.570733950982322e-05), ('智能交通信息安全高级产品经理/产品总监/行业专家', 6.570733950982322e-05), ('产品经理/总监（视觉芯片半导体', 6.570733950982322e-05), ('产品经理课程高级教学专家', 6.570733950982322e-05), ('产品总监（用户端）', 6.570733950982322e-05), ('产品专家（系统端）', 6.570733950982322e-05), ('产品经理/专家（人工智能）', 6.570733950982322e-05), ('招商运营专员（产品运营方向）-【商业化】', 6.570733950982322e-05), ('产品总监经理（网易云笔记）', 6.570733950982322e-05), ('产品运营总监经理（有道云笔记）', 6.570733950982322e-05), ('产品专家（协同办公)-【效率工程】', 6.570733950982322e-05), ('流量产品运营专家（联盟方向）-【商业化】', 6.570733950982322e-05), ('产品总监/高级产品经理', 6.570733950982322e-05), ('软件产品经理', 6.570733950982322e-05), ('财资-产品总监', 6.570733950982322e-05), ('HR产品区域售前总监', 6.570733950982322e-05), ('产品总监-供应链', 6.570733950982322e-05), ('产品经理（直播业务）(G6K1)', 6.570733950982322e-05), ('新药评价产品经理-病理', 6.570733950982322e-05), ('高级数据产品经理', 6.570733950982322e-05), ('数据产品经理-【数据内容】', 6.570733950982322e-05), ('数据产品经理-【数据开发管理】', 6.570733950982322e-05), ('数据产品经理【海外社交】', 6.570733950982322e-05), ('数据产品经理(J200312011)', 6.570733950982322e-05), ('公共数据-数据产品经理', 6.570733950982322e-05), ('数据产品经理 (MJ003314)', 6.570733950982322e-05), ('数据产品经理(J200313002)', 6.570733950982322e-05), ('数据产品经理(J200417003)', 6.570733950982322e-05), ('风控数据产品经理', 6.570733950982322e-05), ('数据产品经理-【流量方向】', 6.570733950982322e-05), ('数据平台分析师/架构师/高级产品经理', 6.570733950982322e-05), ('大数据分析产品经理', 6.570733950982322e-05), ('数据资深产品经理', 6.570733950982322e-05), ('HR系统与数据产品经理', 6.570733950982322e-05), ('数据产品经理-平台建设', 6.570733950982322e-05), ('财务数据分析产品经理-企业应用', 6.570733950982322e-05), ('数据产品经理 - 【智能分析】', 6.570733950982322e-05), ('国际化高级数据产品经理', 6.570733950982322e-05), ('BI数据产品经理', 6.570733950982322e-05), ('国际化商业策略产品经理（数据科学方向）', 6.570733950982322e-05), ('数据产品经理(J200417002)', 6.570733950982322e-05), ('数据仓库产品经理-数据治理方向', 6.570733950982322e-05), ('数据仓库产品经理', 6.570733950982322e-05), ('数据仓库产品经理-后端', 6.570733950982322e-05), ('广告数据监测平台产品经理', 6.570733950982322e-05), ('后端开发工程师', 6.570733950982322e-05), ('java软件开发工程师', 6.570733950982322e-05), ('高级Java后端开发工程师', 6.570733950982322e-05), ('票务-JAVA开发工程师（独立APP后台）--2573', 6.570733950982322e-05), ('java开发工程师（APP后端）', 6.570733950982322e-05), ('Java开发工程师-安全方向', 6.570733950982322e-05), ('高精地图web后台开发工程师-无人车配送中心', 6.570733950982322e-05), ('保险平台-高级Java开发工程师-保险业务', 6.570733950982322e-05), ('后台开发工程师/技术专家', 6.570733950982322e-05), ('公交业务-Java开发工程师', 6.570733950982322e-05), ('机火研发-Java开发工程师（数据组）', 6.570733950982322e-05), ('美团App部-高级Java开发工程师', 6.570733950982322e-05), ('语音交互中心-后台开发工程师', 6.570733950982322e-05), ('高级 Web 前端工程师', 6.570733950982322e-05), ('高级web前端', 6.570733950982322e-05), ('Web前端开发工程师-金融类项目', 6.570733950982322e-05), ('web前端开发实习生', 6.570733950982322e-05), ('Web前端开发实习生 — 企业级平台', 6.570733950982322e-05), ('高级web前端讲师', 6.570733950982322e-05), ('高级测试开发工程师（LiveMe）(JDLJ1)', 6.570733950982322e-05), ('电商测试工程师', 6.570733950982322e-05), ('多媒体通信科研/测试工程师SZD35', 6.570733950982322e-05), ('测试工程师 - 分布式存储', 6.570733950982322e-05), ('软件测试工程师-无人车配送中心', 6.570733950982322e-05), ('测试开发工程师 - 抖音电商', 6.570733950982322e-05), ('测试Leader - 垂直业务', 6.570733950982322e-05), ('资深自动化测试工程师', 6.570733950982322e-05), ('路由器测试经理', 6.570733950982322e-05), ('产品运营岗位(Gllue测试)G05266', 6.570733950982322e-05), ('【暑期实习生】安全测试实习生', 6.570733950982322e-05), ('基础设施部-运维开发工程师', 6.570733950982322e-05), ('大数据集群运维开发工程师/专家', 6.570733950982322e-05), ('大数据运维开发工程师/专家', 6.570733950982322e-05), ('运行类系统运维规划工程师2020SXG03', 6.570733950982322e-05), ('SRE运维研发Leader', 6.570733950982322e-05), ('运维平台架构师&nbsp;', 6.570733950982322e-05), ('SRE(高级)运维工程师', 6.570733950982322e-05), ('IDC服务器运维工程师', 6.570733950982322e-05), ('运维开发工程师（SRE）', 6.570733950982322e-05), ('运维开发工程师（网校） (MJ001313)', 6.570733950982322e-05), ('售后运维负责人(J10621)', 6.570733950982322e-05), ('网络运维工程师（企业金融） (MJ001043)', 6.570733950982322e-05), ('高级/资深运维开发工程师(J200207001)', 6.570733950982322e-05), ('运维平台研发工程师(J200409018)', 6.570733950982322e-05), ('运维研发工程师', 6.570733950982322e-05), ('运维工程师实习生', 6.570733950982322e-05), ('运维平台研发工程师', 6.570733950982322e-05), ('云运维工程师', 6.570733950982322e-05), ('SRE高级运维研发工程师', 6.570733950982322e-05), ('演播运维', 6.570733950982322e-05), ('金蝶EAS系统运维工程师', 6.570733950982322e-05), ('曲库内容编辑高级专员（运维方向）', 6.570733950982322e-05), ('产品经理(智能运维)', 6.570733950982322e-05), ('安全/分保运维工程师', 6.570733950982322e-05), ('阿里云大数据运维工程师', 6.570733950982322e-05), ('DevOps运维工程师', 6.570733950982322e-05), ('Java课程研究员', 6.570733950982322e-05), ('Java研发工程师(支付)(JEH51)', 6.570733950982322e-05), ('云平台-java资深工程师/技术专家', 6.570733950982322e-05), ('中级java开发工程师', 6.570733950982322e-05), ('少儿编程讲师（pythonjavac++）', 6.570733950982322e-05), ('java开发', 6.570733950982322e-05), ('java专家', 6.570733950982322e-05), ('云平台计费-java资深工程师/技术专家', 6.570733950982322e-05), ('JAVA专家工程师(J200219001)', 6.570733950982322e-05), ('Java WEB程序员', 6.570733950982322e-05), ('Java 资深/专家软件工程师(J190318005)', 6.570733950982322e-05), ('分析系统-JAVA技术专家', 6.570733950982322e-05), ('服务器端开发工程师（Python/Go）', 6.570733950982322e-05), ('Python开发工程师-安全方向', 6.570733950982322e-05), ('Python开发工程师-【基础架构】', 6.570733950982322e-05), ('python后端', 6.570733950982322e-05), ('Python后端高级开发工程师-抖音/火山', 6.570733950982322e-05), ('Python培训讲师', 6.570733950982322e-05), ('高级python工程师', 6.570733950982322e-05), ('Python开发工程师-财务报表平台', 6.570733950982322e-05), ('资深python爬虫工程师', 6.570733950982322e-05), ('Python高级讲师', 6.570733950982322e-05), ('高级后端开发工程师（Python）0419', 6.570733950982322e-05), ('编程讲师（python系统班）', 6.570733950982322e-05), ('python教研', 6.570733950982322e-05), ('python助理讲师', 6.570733950982322e-05), ('Python资深开发工程师', 6.570733950982322e-05), ('python高端开发工程师', 6.570733950982322e-05), ('产品实习生(sql、python，懂java)', 6.570733950982322e-05), ('少儿编程讲师（web/python/java）', 6.570733950982322e-05), ('Python金牌讲师', 6.570733950982322e-05), ('少儿编程老师-Python方向（MJ61）', 6.570733950982322e-05), ('少儿编程讲师（pythonjavaweb）', 6.570733950982322e-05), ('【暑期实习生】Python开发实习生', 6.570733950982322e-05), ('PHP研发工程师(RAA51)', 6.570733950982322e-05), ('JAVA/PHP开发工程师(J190613014)', 6.570733950982322e-05), ('高级软件开发工程师（Go/PHP）(J190424024)', 6.570733950982322e-05), ('C++/PHP研发工程师（校招）', 6.570733950982322e-05), ('高级PHP开发工程师-云服务', 6.570733950982322e-05), ('PHP研发工程师(J10015)', 6.570733950982322e-05), ('地图客户端部_高级PHP研发工程师', 6.570733950982322e-05), ('PHP后端实习或全职', 6.570733950982322e-05), ('高级PHP架构师', 6.570733950982322e-05), ('PHP自由开发员', 6.570733950982322e-05), ('百度大数据平台php研发', 6.570733950982322e-05), ('资深软件开发工程师（Go/PHP）(J190424023)', 6.570733950982322e-05), ('高级交互设计师（负责所有产品线）', 6.570733950982322e-05), ('交互设计实习生-UED', 6.570733950982322e-05), ('UI设计师', 6.570733950982322e-05), ('游戏UI设计', 6.570733950982322e-05), ('UI设计（游戏）', 6.570733950982322e-05), ('UI设计（B）', 6.570733950982322e-05), ('高级UI设计师（北京）', 6.570733950982322e-05), ('游戏ui设计', 6.570733950982322e-05), ('UI设计师 — 综合产品', 6.570733950982322e-05), ('UI设计实习生-UED', 6.570733950982322e-05), ('UI设计师 — 财经', 6.570733950982322e-05), ('UI设计工程师', 6.570733950982322e-05)]\n"
     ]
    }
   ],
   "source": [
    "#pagerank, rank key skills and positions\n",
    "#to prevent some nodes from becoming black hole, we distribute probability of visiting certain nodes\n",
    "#use alpha value to do this\n",
    "pr = nx.pagerank(G, alpha=0.9)\n",
    "ranked_position_and_ability = sorted([(name, value) for name, value in pr.items()], key=lambda x:x[1], reverse = True)\n",
    "print(ranked_position_and_ability)"
   ]
  },
  {
   "cell_type": "code",
   "execution_count": 12,
   "metadata": {},
   "outputs": [
    {
     "name": "stdout",
     "output_type": "stream",
     "text": [
      "id                                                                   3\n",
      "positionName                                                    财务产品经理\n",
      "district                                                           海淀区\n",
      "stationname                                                         上地\n",
      "jobNature                                                           全职\n",
      "companyLabelList                      ['节日礼物', '年底双薪', '定期体检', '七险一金']\n",
      "industryField                                               物流丨运输,软件开发\n",
      "companySize                                                  500-2000人\n",
      "skillLables                                      ['产品设计', '后台', 'B2B']\n",
      "createTime                                         2020-05-15 15:10:02\n",
      "companyFullName                                         北京福佑多多信息技术有限公司\n",
      "workYear                                                          1-3年\n",
      "education                                                           本科\n",
      "positionAdvantage                                     福利待遇好、创业黑马、技术氛围好\n",
      "url                            https://www.lagou.com/jobs/7149613.html\n",
      "detail               岗位职责1、负责财务相关业务解决方案架构并主导与产品、技术等交付团队的对接，能够从完整的财务...\n",
      "type                                                               产品线\n",
      "Name: 0, dtype: object\n"
     ]
    }
   ],
   "source": [
    "#build model\n",
    "#X_content: feature, should drop target\n",
    "X_content = content.drop(['salary'], axis=1)  #remove salary\n",
    "target = content['salary'].tolist()\n",
    "string_training_corpus = []\n",
    "\n",
    "#merge X_content to string\n",
    "X_content['merged'] = X_content.apply(lambda x:''.join(str(x)),axis=1)\n",
    "print(X_content['merged'][0])"
   ]
  },
  {
   "cell_type": "code",
   "execution_count": 15,
   "metadata": {},
   "outputs": [
    {
     "name": "stdout",
     "output_type": "stream",
     "text": [
      "4511\n"
     ]
    }
   ],
   "source": [
    "#change the whole column to list\n",
    "X_string = X_content['merged'].tolist()\n",
    "print(len(X_string))"
   ]
  },
  {
   "cell_type": "code",
   "execution_count": 18,
   "metadata": {},
   "outputs": [],
   "source": [
    "import jieba\n",
    "import re"
   ]
  },
  {
   "cell_type": "code",
   "execution_count": 19,
   "metadata": {},
   "outputs": [],
   "source": [
    "def token(string):\n",
    "    #re(pattern,string)\n",
    "    return re.findall('\\w+',string)"
   ]
  },
  {
   "cell_type": "code",
   "execution_count": 36,
   "metadata": {},
   "outputs": [
    {
     "data": {
      "text/plain": [
       "['positionName', '财务产品经理']"
      ]
     },
     "execution_count": 36,
     "metadata": {},
     "output_type": "execute_result"
    }
   ],
   "source": [
    "#the structure of each row\n",
    "X_string[0].split('\\n')[1].split()"
   ]
  },
  {
   "cell_type": "code",
   "execution_count": 40,
   "metadata": {},
   "outputs": [
    {
     "name": "stderr",
     "output_type": "stream",
     "text": [
      "Building prefix dict from the default dictionary ...\n"
     ]
    },
    {
     "name": "stdout",
     "output_type": "stream",
     "text": [
      "0\n"
     ]
    },
    {
     "name": "stderr",
     "output_type": "stream",
     "text": [
      "Dumping model to file cache /var/folders/5k/0_92xx3s6q37l31tbt4tgy600000gn/T/jieba.cache\n",
      "Loading model cost 1.048 seconds.\n",
      "Prefix dict has been built successfully.\n"
     ]
    },
    {
     "name": "stdout",
     "output_type": "stream",
     "text": [
      "1000\n",
      "2000\n",
      "3000\n",
      "4000\n",
      "财务 产品 经理 海淀区 上 地 全职 物流 丨 运输 软件开发 5002000 人 北京 福佑 多多 信息技术 有限公司 13 年 本科 福利待遇 好 创业 黑马 技术 氛围 好 httpswwwlagoucomjobs7149613html 岗位职责 1 负责 财务 相关 业务 解决方案 架构 并 主导 与 产品 技术 等 交付 团队 的 对接 能够 从 完整 的 财务 产品线\n"
     ]
    }
   ],
   "source": [
    "del list\n",
    "cutted_X = []\n",
    "def get_one_row_job_string(x_string_row):\n",
    "    job_string=''\n",
    "    #split by \\n, to get one row at a time\n",
    "    for i,element in enumerate(x_string_row.split('\\n')):\n",
    "        #element should have 2\n",
    "        if len(element.split())==2:\n",
    "            _,value = element.split()\n",
    "            #i=0: id, discard\n",
    "            if i==0: continue\n",
    "            job_string = job_string + value\n",
    "    return job_string\n",
    "for i,row in enumerate(X_string):\n",
    "    job_string = get_one_row_job_string(row)\n",
    "    #\n",
    "    if i%1000==0: \n",
    "        print(i)\n",
    "    #separate job_string into words, append to cutted_X\n",
    "    cutted_X.append(' '.join(list(jieba.cut(''.join(token(job_string))))))\n",
    "print(cutted_X[0])"
   ]
  },
  {
   "cell_type": "code",
   "execution_count": 52,
   "metadata": {},
   "outputs": [
    {
     "name": "stdout",
     "output_type": "stream",
     "text": [
      "['10k-15k', '30k-50k', '40k-75k', '20k-40k', '20k-38k', '30k-50k', '40k-60k', '30k-50k', '40k-70k', '30k-50k']\n"
     ]
    }
   ],
   "source": [
    "#TFIDF\n",
    "from sklearn.feature_extraction.text import TfidfVectorizer\n",
    "vectorizer = TfidfVectorizer()\n",
    "\n",
    "#extract tfidf from cutted sentences\n",
    "#set X for training\n",
    "X = vectorizer.fit_transform(cutted_X)\n",
    "print(target[:10])"
   ]
  },
  {
   "cell_type": "code",
   "execution_count": 49,
   "metadata": {},
   "outputs": [
    {
     "name": "stdout",
     "output_type": "stream",
     "text": [
      "10k-15k\n",
      "['1', '0', '1', '5']\n",
      "['10', '15']\n",
      "<map object at 0x7fa0fe39fc50>\n",
      "[10.0, 15.0]\n"
     ]
    }
   ],
   "source": [
    "print(target[0])\n",
    "print(re.findall('\\d',target[0]))\n",
    "print(re.findall('\\d+',target[0]))\n",
    "print(map(float,re.findall('\\d+',target[0])))\n",
    "print(list(map(float,re.findall('\\d+',target[0]))))"
   ]
  },
  {
   "cell_type": "code",
   "execution_count": 50,
   "metadata": {},
   "outputs": [],
   "source": [
    "import numpy as np\n",
    "target_numerical = [np.mean(list(map(float,re.findall('\\d+',s))))for s in target]\n",
    "#set Y for training\n",
    "Y = target_numerical"
   ]
  },
  {
   "cell_type": "code",
   "execution_count": 53,
   "metadata": {},
   "outputs": [
    {
     "data": {
      "text/plain": [
       "KNeighborsRegressor(algorithm='auto', leaf_size=30, metric='minkowski',\n",
       "                    metric_params=None, n_jobs=None, n_neighbors=2, p=2,\n",
       "                    weights='uniform')"
      ]
     },
     "execution_count": 53,
     "metadata": {},
     "output_type": "execute_result"
    }
   ],
   "source": [
    "#use KNN model (regressor)\n",
    "from sklearn.neighbors import KNeighborsRegressor\n",
    "model = KNeighborsRegressor(n_neighbors=2)\n",
    "model.fit(X, Y)\n"
   ]
  },
  {
   "cell_type": "code",
   "execution_count": 66,
   "metadata": {},
   "outputs": [],
   "source": [
    "#prediction\n",
    "def predict_by_label(test_string, model):\n",
    "    test_words = list(jieba.cut(test_string))\n",
    "    #transform to tfidf vector\n",
    "    \n",
    "    test_vec = vectorizer.transform(test_words)\n",
    "    predicted_value = model.predict(test_vec)\n",
    "    #print(predicted_value)\n",
    "    #TODO: what does the other columns in predicted_value mean?\n",
    "    return predicted_value[0]"
   ]
  },
  {
   "cell_type": "code",
   "execution_count": 67,
   "metadata": {},
   "outputs": [
    {
     "name": "stdout",
     "output_type": "stream",
     "text": [
      "[10.75 30.   28.75 30.   30.   30.   30.   20.  ]\n",
      "[10.75 30.   28.75 30.   30.   30.   30.   20.  ]\n",
      "[19.25 30.   28.75 30.   30.   30.   30.    6.  ]\n",
      "[12.5  30.   28.75 30.   30.   30.   30.    6.  ]\n"
     ]
    }
   ],
   "source": [
    "test = '测试 北京 3年 专科'\n",
    "test2 = '测试 北京 4年 专科'\n",
    "test3 = '算法 北京 4年 本科'\n",
    "test4 = 'UI 北京 4年 本科'\n",
    "\n",
    "for testcur in [test, test2, test3, test4]:\n",
    "    predict_by_label(testcur,model)"
   ]
  },
  {
   "cell_type": "code",
   "execution_count": 69,
   "metadata": {},
   "outputs": [
    {
     "name": "stdout",
     "output_type": "stream",
     "text": [
      "[20.   22.5   6.   30.   30.   15.25 30.   23.75]\n",
      "prediction of 广州Java本科3年掌握大数据 is 20.0\n",
      "[30.   22.5  38.75 30.   30.   15.25 30.   23.75]\n",
      "prediction of 沈阳Java硕士3年掌握大数据 is 30.0\n",
      "[30.   22.5   6.   30.   30.   15.25 30.   23.75]\n",
      "prediction of 沈阳Java本科3年掌握大数据 is 30.0\n",
      "[28.75 19.25 38.75 30.   30.   15.25 30.  ]\n",
      "prediction of 北京算法硕士3年掌握图像识别 is 28.75\n"
     ]
    }
   ],
   "source": [
    "persons = [\n",
    "    \"广州Java本科3年掌握大数据\",\n",
    "    \"沈阳Java硕士3年掌握大数据\", \n",
    "    \"沈阳Java本科3年掌握大数据\", \n",
    "    \"北京算法硕士3年掌握图像识别\",\n",
    "]\n",
    "\n",
    "for p in persons:\n",
    "    print('prediction of {} is {}'. format(p, predict_by_label(p,model)))"
   ]
  },
  {
   "cell_type": "code",
   "execution_count": null,
   "metadata": {},
   "outputs": [],
   "source": []
  }
 ],
 "metadata": {
  "kernelspec": {
   "display_name": "Python 3",
   "language": "python",
   "name": "python3"
  },
  "language_info": {
   "codemirror_mode": {
    "name": "ipython",
    "version": 3
   },
   "file_extension": ".py",
   "mimetype": "text/x-python",
   "name": "python",
   "nbconvert_exporter": "python",
   "pygments_lexer": "ipython3",
   "version": "3.7.7"
  }
 },
 "nbformat": 4,
 "nbformat_minor": 4
}

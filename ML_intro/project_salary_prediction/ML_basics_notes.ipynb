{
 "cells": [
  {
   "cell_type": "markdown",
   "metadata": {},
   "source": [
    "# Prelude\n",
    "\n",
    "### Edit distance:\n",
    "1. Measurement of similarity between two sequences\n",
    "2. viable edits: insertion, deletion, substitution\n",
    "3. Minimum edits to change word w1 to w2\n",
    "4. eg: good-> delete 'o'-> god\n",
    "5. algorithm: dp (dynamic programming)\n",
    "#### Dynamic programming for edit distance\n",
    "define: distance lev(|a|, |b|) = <br>\n",
    "lev(i,j) distance between first i and j characters in a and b <br>\n",
    "\n",
    "different cases:\n",
    "\n",
    "1. if min(i,j)=0: lev(i,j) = max(i,j). need to add all characters from the longer item\n",
    "2. find minimum from the following neighboring cases:\n",
    "    a. lev(i-1,j)+1: delete ai\n",
    "    b. lev(i,j-1)+1: insert bj\n",
    "    c. lev(i-1, j-1)+True(ai!=bj): +1 substitute ai with bj if not equal, + 0 if equal\n",
    "\n",
    "# 10 classical models in ML\n",
    "most from sklearn\n",
    "1. classification: with predefined label\n",
    "\n",
    "    a. C4.5 decision tree: sklearn.tree.DecisionTreeClassifier \n",
    "    \n",
    "    b. Naive Bayes: sklearn.native_bayes.MultinomialNB\n",
    "    \n",
    "    c. SVM: sklearn.svm.SVC\n",
    "    \n",
    "    d. KNN: sklearn.neighbors.KNeighborsClassifier\n",
    "    \n",
    "    e. Adaboost: sklearn.ensemble. AdaBoostClassifier\n",
    "    \n",
    "    f. CART\n",
    "    \n",
    "2. Clustering: no predefined label\n",
    "\n",
    "    a. K-Means: sklearn.cluster.KMeans\n",
    "    \n",
    "    b. EM: sklearn.mixture.GMM\n",
    "    \n",
    "3. Correlation analysis\n",
    "\n",
    "    a. Apriori: from efficient_apriori import apriori\n",
    "    \n",
    "4. Link analysis\n",
    "\n",
    "    a. PageRank: import networkx as nx\n",
    "    "
   ]
  },
  {
   "cell_type": "markdown",
   "metadata": {},
   "source": [
    "## Bayes\n",
    "prior: P(A) from experience\n",
    "\n",
    "posterior: probability P(A|B), know the results, the probability of the cause\n",
    "\n",
    "conditional:P(A|B)\n",
    "$$P(A|B) = P(A)\\dfrac{P(B|A)}{P(B)}$$\n",
    "$$P(A_i|B) = \\dfrac{P(A_i)P(B|A_i)}{\\sum_{i=1}^{n} P(A_i)P(B|A_i)}$$\n",
    "proof:\n",
    "$$P(A,B) = P(B)P(A|B)=P(A)P(B|A)$$\n",
    "$$P(B) = P(B|A)P(A)+P(B|!A)P(!A)$$\n",
    "example: a test for virus, true positive 99.9%, false positive 0.1%, demographic probbaility to get the virus 1/10000. If a person is tested positive, what's the probability that he has the virus?\n",
    "\n",
    "A: has virus, B: test positive, P(A|B): has virus when tested positive, P(A): has virus = 1/10000, P(B|A): true positive = 99.9%, P(B|!A) = 0.1%\n",
    "$$P(A|B) = \\dfrac{P(A)*P(B|A)}{P(A)*P(B|A)+P(!A)*P(B|!A)}$$"
   ]
  },
  {
   "cell_type": "markdown",
   "metadata": {},
   "source": [
    "### Naive Bayes\n",
    "1. give data and label (human generated)\n",
    "2. calculate class probability and conditional probability\n",
    "3. use bayes formula for prediction\n",
    "\n",
    "types:\n",
    "1. discrete\n",
    "2. continuous: uses normal distribution to fit P(B|Ai), Ai gives the distribution, and calculate the probability of x=B in this distribution, find the best fit\n",
    "\n",
    "3 different assumptions for distribution model:\n",
    "1. Gaussian\n",
    "2. MultinomialNB\n",
    "3. Bernoulli"
   ]
  },
  {
   "cell_type": "code",
   "execution_count": 1,
   "metadata": {},
   "outputs": [
    {
     "name": "stdout",
     "output_type": "stream",
     "text": [
      "0.10692733469896672\n"
     ]
    }
   ],
   "source": [
    "from scipy import stats\n",
    "mu = 179.5 \n",
    "sigma = 3.697\n",
    "x = 180\n",
    "prob = stats.norm.pdf(x,mu,sigma)\n",
    "print(prob)"
   ]
  },
  {
   "cell_type": "markdown",
   "metadata": {},
   "source": [
    "### Decision tree and random forest\n",
    "__Three Common types__ different criteria for decision:\n",
    "1. CART:\n",
    "2. ID3:largest information gain\n",
    "3. C4.5: gini index\n",
    "\n",
    "\n",
    "#### information definitions\n",
    "1. information: $I(X=x_i) = -log_2p(x_i)$\n",
    "2. entropy = expectation of information, a measurement of uncertainty of information, increases with uncertainty: $H(X) = \\sum p(x_i)I(x_i)$\n",
    "\n",
    "#### random forest\n",
    "\n",
    "1. bagging: use multiple weak classifiers, decided by vote of majority of trees. \n",
    "2. random forest: \n",
    "    \n",
    "    a. sample randomness: bootstrap sample (random sampling with replacement to generate a sample of size with N = original sample size)\n",
    "    \n",
    "    b. feature randomness: select m features from M total features for a classifier tree\n",
    "    \n",
    "    c. no prune"
   ]
  },
  {
   "cell_type": "markdown",
   "metadata": {},
   "source": [
    "## KNN (classifier, regressor)\n",
    "1. How to select k: \n",
    "2. Types of distance/similarity: \n",
    "\n",
    "    a. Euler\n",
    "    \n",
    "    b. Manhattan distance: |xi-xj|+|yi-yj|\n",
    "\n",
    "    c.Chebyshev distance: max(|x2-x1|,|y2-y1|)\n",
    "    \n",
    "    d.Cosine: for vectors, calculate angle between vectors\n",
    "3. Data structure: KD tree (k-dimensional binary tree)\n",
    "4. KNN for regression: to predict a value of unknown feature of a new point. Look for the closest k points in the graph, average over the neighbor's values.\n"
   ]
  },
  {
   "cell_type": "markdown",
   "metadata": {},
   "source": [
    "## SVM (support vector machine)\n",
    "1. key idea: for not half-spaces, use feature map into higher dimensions, then use separating hyperplane, then use linear regression\n",
    "2. kernel:rbf, linear, sigmoid\n",
    "3. sklearn.svm.SVC: high dimension\n",
    "4. sklearn.svm.Linear: low dimension"
   ]
  },
  {
   "cell_type": "markdown",
   "metadata": {},
   "source": [
    "# Graph Theory\n",
    "## igraph\n",
    "for complicated network problem, larger process capability, based on C\n",
    "good for large dataset\n",
    "## NetworkX\n",
    "complicated network library in python, friendly for python\n",
    "```\n",
    "nx.Graph() for undirected graph\n",
    "nx.Digraph() for directed graph\n",
    "G.add_nodes_from(['E','F','G'])\n",
    "G.remove_nodes_from(['D','E'])\n",
    "G.add_edges_from(..)\n",
    "G.add_weigted_edges_from #for weighted edges\n",
    "G.remove_edge()\n",
    "G.remove_edges_from()\n",
    "G.edges() to obtain edges\n",
    "G.nodes()\n",
    "\n",
    "plot\n",
    "layout = nx.spring_layout(G) #layout style\n",
    "nx.draw(G, pos=layout, with_labels=True, hold = False)\n",
    "plt.show()\n",
    "\n",
    "#take subgraph\n",
    "sub_graph = G.subgraph(['0','1','2'])\n",
    "```\n",
    "\n",
    "layout: spring_layout, circular_layout, random_layout, shell_layout"
   ]
  },
  {
   "cell_type": "code",
   "execution_count": 11,
   "metadata": {},
   "outputs": [
    {
     "name": "stdout",
     "output_type": "stream",
     "text": [
      "pagerank: {'A': 0.3488378286293671, 'B': 0.18604623938633386, 'C': 0.18604623938633386, 'D': 0.2790696925979645}\n"
     ]
    },
    {
     "data": {
      "image/png": "[encoded data removed]",
      "text/plain": [
       "<Figure size 432x288 with 1 Axes>"
      ]
     },
     "metadata": {},
     "output_type": "display_data"
    }
   ],
   "source": [
    "#networkX\n",
    "import matplotlib.pyplot as plt\n",
    "import networkx as nx\n",
    "#create directed graph\n",
    "G = nx.DiGraph() \n",
    "edges = [(\"A\",\"B\"),(\"A\",\"C\"),(\"A\",\"D\"),(\"B\",\"A\"),(\"B\",\"D\"),(\"C\",\"A\")]\n",
    "#add edge\n",
    "for edge in edges:\n",
    "    G.add_edge(edge[0],edge[1])\n",
    "#pagerank: weights for key nodes (connectivity of nodes)\n",
    "pagerank_list = nx.pagerank(G, alpha=1)\n",
    "print(\"pagerank:\", pagerank_list)\n",
    "layout = nx.spring_layout(G) #layout style\n",
    "nx.draw(G, pos=layout, with_labels=True, hold = False)\n",
    "plt.show()"
   ]
  },
  {
   "cell_type": "code",
   "execution_count": null,
   "metadata": {},
   "outputs": [],
   "source": []
  }
 ],
 "metadata": {
  "kernelspec": {
   "display_name": "Python 3",
   "language": "python",
   "name": "python3"
  },
  "language_info": {
   "codemirror_mode": {
    "name": "ipython",
    "version": 3
   },
   "file_extension": ".py",
   "mimetype": "text/x-python",
   "name": "python",
   "nbconvert_exporter": "python",
   "pygments_lexer": "ipython3",
   "version": "3.7.6"
  }
 },
 "nbformat": 4,
 "nbformat_minor": 4
}
